{
 "cells": [
  {
   "cell_type": "markdown",
   "id": "99d86537",
   "metadata": {},
   "source": [
    "*ToDo*\n",
    "\n",
    "02) pred_window und obs_window ausprobieren.\n",
    "03) output nochmal genau anschauen.\n",
    "04) was ist maskiert anschauen - und wie genau?\n",
    "05) VRAM wenig ausgelastet. Batch size mal mit 320 ausprobieren, aber auch durchziehen.\n",
    "06) Task pred: scheduler einfügen.\n",
    "07) Analyse each var (sparsity)\n",
    "08) loss per var/quality of varis loss (is this already ablation to forecast only one var)\n",
    "09) Include sepsis definition\n",
    "10) "
   ]
  },
  {
   "cell_type": "code",
   "execution_count": 1,
   "id": "driven-termination",
   "metadata": {},
   "outputs": [],
   "source": [
    "import pickle\n",
    "import numpy as np\n",
    "import pandas as pd\n",
    "import matplotlib.pyplot as plt\n",
    "import random \n",
    "import joblib\n",
    "from tqdm import tqdm\n",
    "tqdm.pandas()\n",
    "from sklearn.utils.class_weight import compute_class_weight\n",
    "from sklearn.metrics import roc_auc_score, precision_recall_curve, auc\n",
    "\n",
    "import torch\n",
    "import torch.nn as nn\n",
    "import torch.nn.functional as F\n",
    "from torchinfo import summary\n",
    "from torch.optim.lr_scheduler import ReduceLROnPlateau"
   ]
  },
  {
   "cell_type": "code",
   "execution_count": 2,
   "id": "5237f27a",
   "metadata": {},
   "outputs": [],
   "source": [
    "def set_seed(seed: int) -> None:\n",
    "    \"\"\"\n",
    "    Set the random seed for modules torch, numpy and random.\n",
    "\n",
    "    :param seed: random seed\n",
    "    \"\"\"\n",
    "    torch.manual_seed(seed)\n",
    "    np.random.seed(seed)\n",
    "    random.seed(seed)\n",
    "    if torch.cuda.is_available() and torch.cuda.device_count() > 0:\n",
    "        torch.backends.cudnn.deterministic = True\n",
    "        torch.cuda.manual_seed_all(seed)\n",
    "set_seed(42)"
   ]
  },
  {
   "cell_type": "markdown",
   "id": "recreational-record",
   "metadata": {},
   "source": [
    "## Load forecast dataset into matrices."
   ]
  },
  {
   "cell_type": "code",
   "execution_count": 3,
   "id": "a2c06d2d",
   "metadata": {},
   "outputs": [],
   "source": [
    "fore_test_op_dense = joblib.load(open('/home/mitarb/fracarolli/eicu/final/evaluation_scripts+pkl/fore_test_op_dense.pkl', 'rb'))\n",
    "fore_test_ip_dense = joblib.load(open('/home/mitarb/fracarolli/eicu/final/evaluation_scripts+pkl/fore_test_ip_dense.pkl', 'rb'))\n",
    "test_input = fore_test_op_dense\n",
    "test_ip = fore_test_ip_dense\n",
    "\n",
    "mean_std_dict = joblib.load(open('/home/mitarb/fracarolli/eicu/final/mean_std_dict.pkl', 'rb'))\n",
    "var_to_ind = dict()\n",
    "with open(\"/home/mitarb/fracarolli/eicu/final/var_to_ind.csv\") as file:\n",
    "    for line in file:\n",
    "        key, value = line.strip().split(\",\")\n",
    "        var_to_ind[key]=int(value)\n",
    "\n",
    "\n",
    "#fore_test_op_triplet = joblib.load(open('/home/mitarb/fracarolli/eicu/final/evaluation_scripts+pkl/fore_test_op_dense.pkl', 'rb'))\n",
    "#fore_test_ip_triplet = joblib.load(open('fore_test_ip_dense.pkl', 'rb'))\n",
    "\n",
    "test_input = joblib.load(open(\"/home/mitarb/hagmann/projects/structures_compositionality/synthetic_test/eicu-full/gold_test.pickle\", 'rb'))"
   ]
  },
  {
   "cell_type": "markdown",
   "id": "875c7053",
   "metadata": {},
   "source": [
    "# Crossinteractions"
   ]
  },
  {
   "cell_type": "markdown",
   "id": "178f1b03",
   "metadata": {},
   "source": [
    "# 8 Sofa Analysis IMS Informer TF"
   ]
  },
  {
   "cell_type": "code",
   "execution_count": 4,
   "id": "26575f84",
   "metadata": {},
   "outputs": [
    {
     "name": "stdout",
     "output_type": "stream",
     "text": [
      "loading of joblib completed\n"
     ]
    }
   ],
   "source": [
    "d_model, e_layers, d_layers, d_ff = 256, 2, 2, 2048\n",
    "number_of_epochs = 100\n",
    "V, D = 98, 17\n",
    "fore_max_len = 2640\n",
    "print('loading of joblib completed')\n",
    "\n",
    "\n",
    "\n",
    "import argparse\n",
    "parser = argparse.ArgumentParser(description='Autoformer & Transformer family for Time Series Forecasting')\n",
    "\n",
    "# basic config\n",
    "parser.add_argument('--is_training', type=int, required=False, default=1, help='status')\n",
    "parser.add_argument('--train_only', type=bool, required=False, default=False, help='perform training on full input dataset without validation and testing')\n",
    "parser.add_argument('--model_id', type=str, required=False, default='test', help='model id')\n",
    "parser.add_argument('--model', type=str, required=False, default='Autoformer',\n",
    "                    help='model name, options: [Autoformer, Informer, Transformer]')\n",
    "\n",
    "# data loader\n",
    "parser.add_argument('--data', type=str, required=False, default='ETTm1', help='dataset type')\n",
    "parser.add_argument('--root_path', type=str, default='./data/ETT/', help='root path of the data file')\n",
    "parser.add_argument('--data_path', type=str, default='ETTh1.csv', help='data file')\n",
    "parser.add_argument('--features', type=str, default='M',\n",
    "                    help='forecasting task, options:[M, S, MS]; M:multivariate predict multivariate, S:univariate predict univariate, MS:multivariate predict univariate')\n",
    "parser.add_argument('--target', type=str, default='OT', help='target feature in S or MS task')\n",
    "parser.add_argument('--freq', type=str, default='h',\n",
    "                    help='freq for time features encoding, options:[s:secondly, t:minutely, h:hourly, d:daily, b:business days, w:weekly, m:monthly], you can also use more detailed freq like 15min or 3h')\n",
    "parser.add_argument('--checkpoints', type=str, default='./checkpoints/', help='location of model checkpoints')\n",
    "\n",
    "# forecasting task\n",
    "parser.add_argument('--seq_len', type=int, default=24, help='input sequence length')\n",
    "parser.add_argument('--label_len', type=int, default=0, help='start token length')\n",
    "parser.add_argument('--pred_len', type=int, default=24, help='prediction sequence length')\n",
    "\n",
    "\n",
    "# DLinear\n",
    "parser.add_argument('--individual', action='store_true', default=False, help='DLinear: a linear layer for each variate(channel) individually')\n",
    "# Formers \n",
    "#Michi: bisher nur default=3 zum laufen gebracht\n",
    "parser.add_argument('--embed_type', type=int, default=3, help='0: default 1: value embedding + temporal embedding + positional embedding 2: value embedding + temporal embedding 3: value embedding + positional embedding 4: value embedding')\n",
    "parser.add_argument('--enc_in', type=int, default=V*2, help='encoder input size') # DLinear with --individual, use this hyperparameter as the number of channels\n",
    "parser.add_argument('--dec_in', type=int, default=V, help='decoder input size')\n",
    "parser.add_argument('--c_out', type=int, default=V, help='output size')\n",
    "parser.add_argument('--d_model', type=int, default=d_model, help='dimension of model')\n",
    "parser.add_argument('--n_heads', type=int, default=8, help='num of heads')\n",
    "parser.add_argument('--e_layers', type=int, default=e_layers, help='num of encoder layers')\n",
    "parser.add_argument('--d_layers', type=int, default=d_layers, help='num of decoder layers')\n",
    "parser.add_argument('--d_ff', type=int, default=d_ff, help='dimension of fcn')\n",
    "parser.add_argument('--moving_avg', type=int, default=25, help='window size of moving average')\n",
    "parser.add_argument('--factor', type=int, default=1, help='attn factor')\n",
    "parser.add_argument('--distil', action='store_false',\n",
    "                    help='whether to use distilling in encoder, using this argument means not using distilling',\n",
    "                    default=True)\n",
    "parser.add_argument('--dropout', type=float, default=0.05, help='dropout')\n",
    "parser.add_argument('--embed', type=str, default='timeF',\n",
    "                    help='time features encoding, options:[timeF, fixed, learned]')\n",
    "parser.add_argument('--activation', type=str, default='gelu', help='activation')\n",
    "parser.add_argument('--output_attention', action='store_true', help='whether to output attention in ecoder')\n",
    "parser.add_argument('--do_predict', action='store_true', help='whether to predict unseen future data')\n",
    "\n",
    "# optimization\n",
    "parser.add_argument('--num_workers', type=int, default=10, help='data loader num workers')\n",
    "parser.add_argument('--itr', type=int, default=2, help='experiments times')\n",
    "parser.add_argument('--train_epochs', type=int, default=10, help='train epochs')\n",
    "parser.add_argument('--batch_size', type=int, default=32, help='batch size of train input data')\n",
    "parser.add_argument('--patience', type=int, default=3, help='early stopping patience')\n",
    "parser.add_argument('--learning_rate', type=float, default=0.0001, help='optimizer learning rate')\n",
    "parser.add_argument('--des', type=str, default='test', help='exp description')\n",
    "parser.add_argument('--loss', type=str, default='mse', help='loss function')\n",
    "parser.add_argument('--lradj', type=str, default='type1', help='adjust learning rate')\n",
    "parser.add_argument('--use_amp', action='store_true', help='use automatic mixed precision training', default=False)\n",
    "\n",
    "# GPU\n",
    "parser.add_argument('--use_gpu', type=bool, default=True, help='use gpu')\n",
    "parser.add_argument('--gpu', type=int, default=0, help='gpu')\n",
    "parser.add_argument('--use_multi_gpu', action='store_true', help='use multiple gpus', default=False)\n",
    "parser.add_argument('--devices', type=str, default='0,1,2,3', help='device ids of multile gpus')\n",
    "parser.add_argument('--test_flop', action='store_true', default=False, help='See utils/tools for usage')\n",
    "\n",
    "args = parser.parse_args(args=[])\n",
    "import importlib"
   ]
  },
  {
   "cell_type": "markdown",
   "id": "ee3b7295",
   "metadata": {},
   "source": [
    "# 7 Sofa Analysis DMS Informer"
   ]
  },
  {
   "cell_type": "markdown",
   "id": "11a553eb",
   "metadata": {},
   "source": [
    "# 10 Sofa Analysis IMS Informer Backprop"
   ]
  },
  {
   "cell_type": "code",
   "execution_count": 5,
   "id": "12355c83",
   "metadata": {},
   "outputs": [
    {
     "name": "stdout",
     "output_type": "stream",
     "text": [
      "geca-cut_embedding3h-k40_s42_w1_f4-SILVER_ONLY_True_n_246080000_2_PRETRAINED_MODEL_NONE.model\n"
     ]
    },
    {
     "name": "stderr",
     "output_type": "stream",
     "text": [
      "100%|██████████| 94/94 [00:11<00:00,  8.34it/s]\n"
     ]
    },
    {
     "name": "stdout",
     "output_type": "stream",
     "text": [
      "geca-cut_sadlo-k80_s42_w1_f4-SILVER_ONLY_True_n_246080000_1_PRETRAINED_MODEL_NONE.model\n"
     ]
    },
    {
     "name": "stderr",
     "output_type": "stream",
     "text": [
      "100%|██████████| 94/94 [00:08<00:00, 11.19it/s]\n"
     ]
    },
    {
     "name": "stdout",
     "output_type": "stream",
     "text": [
      "geca-cut_embedding3h-k80_s42_w1_f4-SILVER_ONLY_True_n_246080000_1_PRETRAINED_MODEL_NONE.model\n"
     ]
    },
    {
     "name": "stderr",
     "output_type": "stream",
     "text": [
      "100%|██████████| 94/94 [00:08<00:00, 10.75it/s]\n"
     ]
    },
    {
     "name": "stdout",
     "output_type": "stream",
     "text": [
      "geca-cut_embedding3h-k10_s42_w1_f4-SILVER_ONLY_True_n_246080000_3_PRETRAINED_MODEL_NONE.model\n"
     ]
    },
    {
     "name": "stderr",
     "output_type": "stream",
     "text": [
      "100%|██████████| 94/94 [00:08<00:00, 11.07it/s]\n"
     ]
    },
    {
     "name": "stdout",
     "output_type": "stream",
     "text": [
      "geca-cut_sadlo-k40_s41_w1_f4-SILVER_ONLY_True_n_246080000_1_PRETRAINED_MODEL_NONE.model\n"
     ]
    },
    {
     "name": "stderr",
     "output_type": "stream",
     "text": [
      "100%|██████████| 94/94 [00:08<00:00, 10.47it/s]\n"
     ]
    },
    {
     "name": "stdout",
     "output_type": "stream",
     "text": [
      "geca-cut_sadlo-k10_s43_w1_f4-SILVER_ONLY_True_n_246080000_3_PRETRAINED_MODEL_NONE.model\n"
     ]
    },
    {
     "name": "stderr",
     "output_type": "stream",
     "text": [
      "100%|██████████| 94/94 [00:08<00:00, 11.27it/s]\n"
     ]
    },
    {
     "name": "stdout",
     "output_type": "stream",
     "text": [
      "cutmix-s43-SILVER_ONLY_True_n_246080000_2_PRETRAINED_MODEL_NONE.model\n"
     ]
    },
    {
     "name": "stderr",
     "output_type": "stream",
     "text": [
      "100%|██████████| 94/94 [00:08<00:00, 11.39it/s]\n"
     ]
    },
    {
     "name": "stdout",
     "output_type": "stream",
     "text": [
      "geca-cut_sadlo-k10_s41_w1_f4-SILVER_ONLY_True_n_246080000_1_PRETRAINED_MODEL_NONE.model\n"
     ]
    },
    {
     "name": "stderr",
     "output_type": "stream",
     "text": [
      "100%|██████████| 94/94 [00:08<00:00, 11.11it/s]\n"
     ]
    },
    {
     "name": "stdout",
     "output_type": "stream",
     "text": [
      "geca-cut_sadlo-k20_s41_w1_f4-SILVER_ONLY_True_n_246080000_2_PRETRAINED_MODEL_NONE.model\n"
     ]
    },
    {
     "name": "stderr",
     "output_type": "stream",
     "text": [
      "100%|██████████| 94/94 [00:08<00:00, 10.60it/s]\n"
     ]
    },
    {
     "name": "stdout",
     "output_type": "stream",
     "text": [
      "geca-cut_sadlo-k160_s43_w1_f4-SILVER_ONLY_True_n_246080000_2_PRETRAINED_MODEL_NONE.model\n"
     ]
    },
    {
     "name": "stderr",
     "output_type": "stream",
     "text": [
      "100%|██████████| 94/94 [00:08<00:00, 11.23it/s]\n"
     ]
    },
    {
     "name": "stdout",
     "output_type": "stream",
     "text": [
      "geca-cut_sadlo-k160_s42_w1_f4-SILVER_ONLY_True_n_246080000_1_PRETRAINED_MODEL_NONE.model\n"
     ]
    },
    {
     "name": "stderr",
     "output_type": "stream",
     "text": [
      "100%|██████████| 94/94 [00:08<00:00, 10.91it/s]\n"
     ]
    },
    {
     "name": "stdout",
     "output_type": "stream",
     "text": [
      "geca-cut_sadlo-k80_s42_w1_f4-SILVER_ONLY_True_n_246080000_2_PRETRAINED_MODEL_NONE.model\n"
     ]
    },
    {
     "name": "stderr",
     "output_type": "stream",
     "text": [
      "100%|██████████| 94/94 [00:08<00:00, 11.22it/s]\n"
     ]
    },
    {
     "name": "stdout",
     "output_type": "stream",
     "text": [
      "geca-cut_sadlo-k80_s43_w1_f4-SILVER_ONLY_True_n_246080000_3_PRETRAINED_MODEL_NONE.model\n"
     ]
    },
    {
     "name": "stderr",
     "output_type": "stream",
     "text": [
      "100%|██████████| 94/94 [00:08<00:00, 10.92it/s]\n"
     ]
    },
    {
     "name": "stdout",
     "output_type": "stream",
     "text": [
      "geca-cut_sadlo-k80_s42_w1_f4-SILVER_ONLY_True_n_246080000_3_PRETRAINED_MODEL_NONE.model\n"
     ]
    },
    {
     "name": "stderr",
     "output_type": "stream",
     "text": [
      "100%|██████████| 94/94 [00:08<00:00, 10.94it/s]\n"
     ]
    },
    {
     "name": "stdout",
     "output_type": "stream",
     "text": [
      "geca-cut_embedding3h-k40_s42_w1_f4-SILVER_ONLY_True_n_246080000_3_PRETRAINED_MODEL_NONE.model\n"
     ]
    },
    {
     "name": "stderr",
     "output_type": "stream",
     "text": [
      "100%|██████████| 94/94 [00:08<00:00, 11.11it/s]\n"
     ]
    },
    {
     "name": "stdout",
     "output_type": "stream",
     "text": [
      "geca-cut_embedding3h-k10_s42_w1_f4-SILVER_ONLY_True_n_246080000_2_PRETRAINED_MODEL_NONE.model\n"
     ]
    },
    {
     "name": "stderr",
     "output_type": "stream",
     "text": [
      "100%|██████████| 94/94 [00:07<00:00, 11.83it/s]\n"
     ]
    },
    {
     "name": "stdout",
     "output_type": "stream",
     "text": [
      "geca-cut_sadlo-k40_s41_w1_f4-SILVER_ONLY_True_n_246080000_3_PRETRAINED_MODEL_NONE.model\n"
     ]
    },
    {
     "name": "stderr",
     "output_type": "stream",
     "text": [
      "100%|██████████| 94/94 [00:08<00:00, 11.11it/s]\n"
     ]
    },
    {
     "name": "stdout",
     "output_type": "stream",
     "text": [
      "geca-cut_sadlo-k80_s41_w1_f4-SILVER_ONLY_True_n_246080000_3_PRETRAINED_MODEL_NONE.model\n"
     ]
    },
    {
     "name": "stderr",
     "output_type": "stream",
     "text": [
      "100%|██████████| 94/94 [00:08<00:00, 11.43it/s]\n"
     ]
    },
    {
     "name": "stdout",
     "output_type": "stream",
     "text": [
      "geca-cut_embedding3h-k160_s42_w1_f4-SILVER_ONLY_True_n_246080000_2_PRETRAINED_MODEL_NONE.model\n"
     ]
    },
    {
     "name": "stderr",
     "output_type": "stream",
     "text": [
      "100%|██████████| 94/94 [00:08<00:00, 10.74it/s]\n"
     ]
    },
    {
     "name": "stdout",
     "output_type": "stream",
     "text": [
      "gold_train-SILVER_ONLY_True_n_246080000_2_PRETRAINED_MODEL_NONE.model\n"
     ]
    },
    {
     "name": "stderr",
     "output_type": "stream",
     "text": [
      "100%|██████████| 94/94 [00:08<00:00, 10.91it/s]\n"
     ]
    },
    {
     "name": "stdout",
     "output_type": "stream",
     "text": [
      "geca-cut_embedding3h-k20_s42_w1_f4-SILVER_ONLY_True_n_246080000_2_PRETRAINED_MODEL_NONE.model\n"
     ]
    },
    {
     "name": "stderr",
     "output_type": "stream",
     "text": [
      "100%|██████████| 94/94 [00:08<00:00, 11.65it/s]\n"
     ]
    },
    {
     "name": "stdout",
     "output_type": "stream",
     "text": [
      "geca-cut_sadlo-k160_s41_w1_f4-SILVER_ONLY_True_n_246080000_1_PRETRAINED_MODEL_NONE.model\n"
     ]
    },
    {
     "name": "stderr",
     "output_type": "stream",
     "text": [
      "100%|██████████| 94/94 [00:08<00:00, 10.77it/s]\n"
     ]
    },
    {
     "name": "stdout",
     "output_type": "stream",
     "text": [
      "geca-cut_sadlo-k160_s43_w1_f4-SILVER_ONLY_True_n_246080000_3_PRETRAINED_MODEL_NONE.model\n"
     ]
    },
    {
     "name": "stderr",
     "output_type": "stream",
     "text": [
      "100%|██████████| 94/94 [00:08<00:00, 11.38it/s]\n"
     ]
    },
    {
     "name": "stdout",
     "output_type": "stream",
     "text": [
      "geca-cut_sadlo-k80_s43_w1_f4-SILVER_ONLY_True_n_246080000_2_PRETRAINED_MODEL_NONE.model\n"
     ]
    },
    {
     "name": "stderr",
     "output_type": "stream",
     "text": [
      "100%|██████████| 94/94 [00:08<00:00, 11.50it/s]\n"
     ]
    },
    {
     "name": "stdout",
     "output_type": "stream",
     "text": [
      "geca-cut_sadlo-k20_s42_w1_f4-SILVER_ONLY_True_n_246080000_2_PRETRAINED_MODEL_NONE.model\n"
     ]
    },
    {
     "name": "stderr",
     "output_type": "stream",
     "text": [
      "100%|██████████| 94/94 [00:08<00:00, 11.67it/s]\n"
     ]
    },
    {
     "name": "stdout",
     "output_type": "stream",
     "text": [
      "geca-cut_embedding3h-k20_s42_w1_f4-SILVER_ONLY_True_n_246080000_3_PRETRAINED_MODEL_NONE.model\n"
     ]
    },
    {
     "name": "stderr",
     "output_type": "stream",
     "text": [
      "100%|██████████| 94/94 [00:08<00:00, 10.77it/s]\n"
     ]
    },
    {
     "name": "stdout",
     "output_type": "stream",
     "text": [
      "geca-cut_sadlo-k40_s43_w1_f4-SILVER_ONLY_True_n_246080000_1_PRETRAINED_MODEL_NONE.model\n"
     ]
    },
    {
     "name": "stderr",
     "output_type": "stream",
     "text": [
      "100%|██████████| 94/94 [00:08<00:00, 11.26it/s]\n"
     ]
    },
    {
     "name": "stdout",
     "output_type": "stream",
     "text": [
      "geca-cut_embedding3h-k80_s42_w1_f4-SILVER_ONLY_True_n_246080000_3_PRETRAINED_MODEL_NONE.model\n"
     ]
    },
    {
     "name": "stderr",
     "output_type": "stream",
     "text": [
      "100%|██████████| 94/94 [00:08<00:00, 10.89it/s]\n"
     ]
    },
    {
     "name": "stdout",
     "output_type": "stream",
     "text": [
      "geca-cut_embedding3h-k160_s42_w1_f4-SILVER_ONLY_True_n_246080000_1_PRETRAINED_MODEL_NONE.model\n"
     ]
    },
    {
     "name": "stderr",
     "output_type": "stream",
     "text": [
      "100%|██████████| 94/94 [00:09<00:00, 10.43it/s]\n"
     ]
    },
    {
     "name": "stdout",
     "output_type": "stream",
     "text": [
      "geca-cut_sadlo-k10_s43_w1_f4-SILVER_ONLY_True_n_246080000_2_PRETRAINED_MODEL_NONE.model\n"
     ]
    },
    {
     "name": "stderr",
     "output_type": "stream",
     "text": [
      "100%|██████████| 94/94 [00:08<00:00, 11.73it/s]\n"
     ]
    },
    {
     "name": "stdout",
     "output_type": "stream",
     "text": [
      "geca-cut_sadlo-k10_s42_w1_f4-SILVER_ONLY_True_n_246080000_1_PRETRAINED_MODEL_NONE.model\n"
     ]
    },
    {
     "name": "stderr",
     "output_type": "stream",
     "text": [
      "100%|██████████| 94/94 [00:08<00:00, 10.94it/s]\n"
     ]
    },
    {
     "name": "stdout",
     "output_type": "stream",
     "text": [
      "cutmix-s41-SILVER_ONLY_True_n_246080000_3_PRETRAINED_MODEL_NONE.model\n"
     ]
    },
    {
     "name": "stderr",
     "output_type": "stream",
     "text": [
      "100%|██████████| 94/94 [00:08<00:00, 11.67it/s]\n"
     ]
    },
    {
     "name": "stdout",
     "output_type": "stream",
     "text": [
      "geca-cut_sadlo-k10_s41_w1_f4-SILVER_ONLY_True_n_246080000_3_PRETRAINED_MODEL_NONE.model\n"
     ]
    },
    {
     "name": "stderr",
     "output_type": "stream",
     "text": [
      "100%|██████████| 94/94 [00:09<00:00, 10.21it/s]\n"
     ]
    },
    {
     "name": "stdout",
     "output_type": "stream",
     "text": [
      "cutmix-s42-SILVER_ONLY_True_n_246080000_2_PRETRAINED_MODEL_NONE.model\n"
     ]
    },
    {
     "name": "stderr",
     "output_type": "stream",
     "text": [
      "100%|██████████| 94/94 [00:08<00:00, 11.11it/s]\n"
     ]
    },
    {
     "name": "stdout",
     "output_type": "stream",
     "text": [
      "geca-cut_sadlo-k10_s41_w1_f4-SILVER_ONLY_True_n_246080000_2_PRETRAINED_MODEL_NONE.model\n"
     ]
    },
    {
     "name": "stderr",
     "output_type": "stream",
     "text": [
      "100%|██████████| 94/94 [00:08<00:00, 10.82it/s]\n"
     ]
    },
    {
     "name": "stdout",
     "output_type": "stream",
     "text": [
      "cutmix-s41-SILVER_ONLY_True_n_246080000_2_PRETRAINED_MODEL_NONE.model\n"
     ]
    },
    {
     "name": "stderr",
     "output_type": "stream",
     "text": [
      "100%|██████████| 94/94 [00:08<00:00, 10.87it/s]\n"
     ]
    },
    {
     "name": "stdout",
     "output_type": "stream",
     "text": [
      "geca-cut_sadlo-k160_s42_w1_f4-SILVER_ONLY_True_n_246080000_2_PRETRAINED_MODEL_NONE.model\n"
     ]
    },
    {
     "name": "stderr",
     "output_type": "stream",
     "text": [
      "100%|██████████| 94/94 [00:09<00:00, 10.33it/s]\n"
     ]
    },
    {
     "name": "stdout",
     "output_type": "stream",
     "text": [
      "geca-cut_embedding3h-k160_s42_w1_f4-SILVER_ONLY_True_n_246080000_3_PRETRAINED_MODEL_NONE.model\n"
     ]
    },
    {
     "name": "stderr",
     "output_type": "stream",
     "text": [
      "100%|██████████| 94/94 [00:08<00:00, 10.96it/s]\n"
     ]
    },
    {
     "name": "stdout",
     "output_type": "stream",
     "text": [
      "cutmix-s43-SILVER_ONLY_True_n_246080000_3_PRETRAINED_MODEL_NONE.model\n"
     ]
    },
    {
     "name": "stderr",
     "output_type": "stream",
     "text": [
      "100%|██████████| 94/94 [00:08<00:00, 10.74it/s]\n"
     ]
    },
    {
     "name": "stdout",
     "output_type": "stream",
     "text": [
      "geca-cut_sadlo-k160_s41_w1_f4-SILVER_ONLY_True_n_246080000_2_PRETRAINED_MODEL_NONE.model\n"
     ]
    },
    {
     "name": "stderr",
     "output_type": "stream",
     "text": [
      "100%|██████████| 94/94 [00:08<00:00, 11.16it/s]\n"
     ]
    },
    {
     "name": "stdout",
     "output_type": "stream",
     "text": [
      "geca-cut_sadlo-k160_s41_w1_f4-SILVER_ONLY_True_n_246080000_3_PRETRAINED_MODEL_NONE.model\n"
     ]
    },
    {
     "name": "stderr",
     "output_type": "stream",
     "text": [
      "100%|██████████| 94/94 [00:08<00:00, 10.66it/s]\n"
     ]
    },
    {
     "name": "stdout",
     "output_type": "stream",
     "text": [
      "geca-cut_sadlo-k20_s43_w1_f4-SILVER_ONLY_True_n_246080000_2_PRETRAINED_MODEL_NONE.model\n"
     ]
    },
    {
     "name": "stderr",
     "output_type": "stream",
     "text": [
      "100%|██████████| 94/94 [00:08<00:00, 10.80it/s]\n"
     ]
    },
    {
     "name": "stdout",
     "output_type": "stream",
     "text": [
      "geca-cut_sadlo-k20_s42_w1_f4-SILVER_ONLY_True_n_246080000_3_PRETRAINED_MODEL_NONE.model\n"
     ]
    },
    {
     "name": "stderr",
     "output_type": "stream",
     "text": [
      "100%|██████████| 94/94 [00:08<00:00, 11.31it/s]\n"
     ]
    },
    {
     "name": "stdout",
     "output_type": "stream",
     "text": [
      "cutmix-s43-SILVER_ONLY_True_n_246080000_1_PRETRAINED_MODEL_NONE.model\n"
     ]
    },
    {
     "name": "stderr",
     "output_type": "stream",
     "text": [
      "100%|██████████| 94/94 [00:08<00:00, 10.61it/s]\n"
     ]
    },
    {
     "name": "stdout",
     "output_type": "stream",
     "text": [
      "geca-cut_sadlo-k20_s41_w1_f4-SILVER_ONLY_True_n_246080000_1_PRETRAINED_MODEL_NONE.model\n"
     ]
    },
    {
     "name": "stderr",
     "output_type": "stream",
     "text": [
      "100%|██████████| 94/94 [00:08<00:00, 10.55it/s]\n"
     ]
    },
    {
     "name": "stdout",
     "output_type": "stream",
     "text": [
      "geca-cut_sadlo-k20_s41_w1_f4-SILVER_ONLY_True_n_246080000_3_PRETRAINED_MODEL_NONE.model\n"
     ]
    },
    {
     "name": "stderr",
     "output_type": "stream",
     "text": [
      "100%|██████████| 94/94 [00:08<00:00, 10.49it/s]\n"
     ]
    },
    {
     "name": "stdout",
     "output_type": "stream",
     "text": [
      "geca-cut_sadlo-k80_s43_w1_f4-SILVER_ONLY_True_n_246080000_1_PRETRAINED_MODEL_NONE.model\n"
     ]
    },
    {
     "name": "stderr",
     "output_type": "stream",
     "text": [
      "100%|██████████| 94/94 [00:08<00:00, 10.59it/s]\n"
     ]
    },
    {
     "name": "stdout",
     "output_type": "stream",
     "text": [
      "geca-cut_sadlo-k160_s42_w1_f4-SILVER_ONLY_True_n_246080000_3_PRETRAINED_MODEL_NONE.model\n"
     ]
    },
    {
     "name": "stderr",
     "output_type": "stream",
     "text": [
      "100%|██████████| 94/94 [00:08<00:00, 11.11it/s]\n"
     ]
    },
    {
     "name": "stdout",
     "output_type": "stream",
     "text": [
      "geca-cut_sadlo-k20_s43_w1_f4-SILVER_ONLY_True_n_246080000_3_PRETRAINED_MODEL_NONE.model\n"
     ]
    },
    {
     "name": "stderr",
     "output_type": "stream",
     "text": [
      "100%|██████████| 94/94 [00:08<00:00, 10.82it/s]\n"
     ]
    },
    {
     "name": "stdout",
     "output_type": "stream",
     "text": [
      "gold_train-SILVER_ONLY_True_n_246080000_3_PRETRAINED_MODEL_NONE.model\n"
     ]
    },
    {
     "name": "stderr",
     "output_type": "stream",
     "text": [
      "100%|██████████| 94/94 [00:08<00:00, 10.79it/s]\n"
     ]
    },
    {
     "name": "stdout",
     "output_type": "stream",
     "text": [
      "geca-cut_sadlo-k10_s42_w1_f4-SILVER_ONLY_True_n_246080000_3_PRETRAINED_MODEL_NONE.model\n"
     ]
    },
    {
     "name": "stderr",
     "output_type": "stream",
     "text": [
      "100%|██████████| 94/94 [00:09<00:00,  9.93it/s]\n"
     ]
    },
    {
     "name": "stdout",
     "output_type": "stream",
     "text": [
      "cutmix-s42-SILVER_ONLY_True_n_246080000_3_PRETRAINED_MODEL_NONE.model\n"
     ]
    },
    {
     "name": "stderr",
     "output_type": "stream",
     "text": [
      "100%|██████████| 94/94 [00:08<00:00, 10.86it/s]\n"
     ]
    },
    {
     "name": "stdout",
     "output_type": "stream",
     "text": [
      "geca-cut_sadlo-k10_s42_w1_f4-SILVER_ONLY_True_n_246080000_2_PRETRAINED_MODEL_NONE.model\n"
     ]
    },
    {
     "name": "stderr",
     "output_type": "stream",
     "text": [
      "100%|██████████| 94/94 [00:08<00:00, 10.85it/s]\n"
     ]
    },
    {
     "name": "stdout",
     "output_type": "stream",
     "text": [
      "geca-cut_sadlo-k40_s42_w1_f4-SILVER_ONLY_True_n_246080000_2_PRETRAINED_MODEL_NONE.model\n"
     ]
    },
    {
     "name": "stderr",
     "output_type": "stream",
     "text": [
      "100%|██████████| 94/94 [00:08<00:00, 10.52it/s]\n"
     ]
    },
    {
     "name": "stdout",
     "output_type": "stream",
     "text": [
      "geca-cut_sadlo-k40_s41_w1_f4-SILVER_ONLY_True_n_246080000_2_PRETRAINED_MODEL_NONE.model\n"
     ]
    },
    {
     "name": "stderr",
     "output_type": "stream",
     "text": [
      "100%|██████████| 94/94 [00:08<00:00, 11.30it/s]\n"
     ]
    },
    {
     "name": "stdout",
     "output_type": "stream",
     "text": [
      "geca-cut_sadlo-k10_s43_w1_f4-SILVER_ONLY_True_n_246080000_1_PRETRAINED_MODEL_NONE.model\n"
     ]
    },
    {
     "name": "stderr",
     "output_type": "stream",
     "text": [
      "100%|██████████| 94/94 [00:08<00:00, 11.33it/s]\n"
     ]
    },
    {
     "name": "stdout",
     "output_type": "stream",
     "text": [
      "geca-cut_embedding3h-k40_s42_w1_f4-SILVER_ONLY_True_n_246080000_1_PRETRAINED_MODEL_NONE.model\n"
     ]
    },
    {
     "name": "stderr",
     "output_type": "stream",
     "text": [
      "100%|██████████| 94/94 [00:08<00:00, 10.99it/s]\n"
     ]
    },
    {
     "name": "stdout",
     "output_type": "stream",
     "text": [
      "geca-cut_sadlo-k20_s43_w1_f4-SILVER_ONLY_True_n_246080000_1_PRETRAINED_MODEL_NONE.model\n"
     ]
    },
    {
     "name": "stderr",
     "output_type": "stream",
     "text": [
      "100%|██████████| 94/94 [00:08<00:00, 11.27it/s]\n"
     ]
    },
    {
     "name": "stdout",
     "output_type": "stream",
     "text": [
      "geca-cut_sadlo-k40_s42_w1_f4-SILVER_ONLY_True_n_246080000_3_PRETRAINED_MODEL_NONE.model\n"
     ]
    },
    {
     "name": "stderr",
     "output_type": "stream",
     "text": [
      "100%|██████████| 94/94 [00:08<00:00, 10.71it/s]\n"
     ]
    },
    {
     "name": "stdout",
     "output_type": "stream",
     "text": [
      "geca-cut_sadlo-k40_s42_w1_f4-SILVER_ONLY_True_n_246080000_1_PRETRAINED_MODEL_NONE.model\n"
     ]
    },
    {
     "name": "stderr",
     "output_type": "stream",
     "text": [
      "100%|██████████| 94/94 [00:08<00:00, 10.76it/s]\n"
     ]
    },
    {
     "name": "stdout",
     "output_type": "stream",
     "text": [
      "geca-cut_sadlo-k40_s43_w1_f4-SILVER_ONLY_True_n_246080000_2_PRETRAINED_MODEL_NONE.model\n"
     ]
    },
    {
     "name": "stderr",
     "output_type": "stream",
     "text": [
      "100%|██████████| 94/94 [00:08<00:00, 11.22it/s]\n"
     ]
    },
    {
     "name": "stdout",
     "output_type": "stream",
     "text": [
      "geca-cut_sadlo-k160_s43_w1_f4-SILVER_ONLY_True_n_246080000_1_PRETRAINED_MODEL_NONE.model\n"
     ]
    },
    {
     "name": "stderr",
     "output_type": "stream",
     "text": [
      "100%|██████████| 94/94 [00:08<00:00, 10.68it/s]\n"
     ]
    },
    {
     "name": "stdout",
     "output_type": "stream",
     "text": [
      "geca-cut_sadlo-k80_s41_w1_f4-SILVER_ONLY_True_n_246080000_2_PRETRAINED_MODEL_NONE.model\n"
     ]
    },
    {
     "name": "stderr",
     "output_type": "stream",
     "text": [
      "100%|██████████| 94/94 [00:07<00:00, 11.76it/s]\n"
     ]
    },
    {
     "name": "stdout",
     "output_type": "stream",
     "text": [
      "geca-cut_sadlo-k20_s42_w1_f4-SILVER_ONLY_True_n_246080000_1_PRETRAINED_MODEL_NONE.model\n"
     ]
    },
    {
     "name": "stderr",
     "output_type": "stream",
     "text": [
      "100%|██████████| 94/94 [00:08<00:00, 11.15it/s]\n"
     ]
    },
    {
     "name": "stdout",
     "output_type": "stream",
     "text": [
      "geca-cut_sadlo-k40_s43_w1_f4-SILVER_ONLY_True_n_246080000_3_PRETRAINED_MODEL_NONE.model\n"
     ]
    },
    {
     "name": "stderr",
     "output_type": "stream",
     "text": [
      "100%|██████████| 94/94 [00:08<00:00, 11.11it/s]\n"
     ]
    },
    {
     "name": "stdout",
     "output_type": "stream",
     "text": [
      "gold_train-SILVER_ONLY_True_n_246080000_1_PRETRAINED_MODEL_NONE.model\n"
     ]
    },
    {
     "name": "stderr",
     "output_type": "stream",
     "text": [
      "100%|██████████| 94/94 [00:08<00:00, 11.15it/s]\n"
     ]
    },
    {
     "name": "stdout",
     "output_type": "stream",
     "text": [
      "geca-cut_sadlo-k80_s41_w1_f4-SILVER_ONLY_True_n_246080000_1_PRETRAINED_MODEL_NONE.model\n"
     ]
    },
    {
     "name": "stderr",
     "output_type": "stream",
     "text": [
      "100%|██████████| 94/94 [00:08<00:00, 10.70it/s]\n"
     ]
    },
    {
     "name": "stdout",
     "output_type": "stream",
     "text": [
      "cutmix-s41-SILVER_ONLY_True_n_246080000_1_PRETRAINED_MODEL_NONE.model\n"
     ]
    },
    {
     "name": "stderr",
     "output_type": "stream",
     "text": [
      "100%|██████████| 94/94 [00:08<00:00, 11.02it/s]\n"
     ]
    },
    {
     "name": "stdout",
     "output_type": "stream",
     "text": [
      "cutmix-s42-SILVER_ONLY_True_n_246080000_1_PRETRAINED_MODEL_NONE.model\n"
     ]
    },
    {
     "name": "stderr",
     "output_type": "stream",
     "text": [
      "100%|██████████| 94/94 [00:08<00:00, 11.12it/s]\n"
     ]
    },
    {
     "name": "stdout",
     "output_type": "stream",
     "text": [
      "geca-cut_embedding3h-k80_s42_w1_f4-SILVER_ONLY_True_n_246080000_2_PRETRAINED_MODEL_NONE.model\n"
     ]
    },
    {
     "name": "stderr",
     "output_type": "stream",
     "text": [
      "100%|██████████| 94/94 [00:08<00:00, 11.20it/s]\n"
     ]
    },
    {
     "name": "stdout",
     "output_type": "stream",
     "text": [
      "geca-cut_embedding3h-k10_s42_w1_f4-SILVER_ONLY_True_n_246080000_1_PRETRAINED_MODEL_NONE.model\n"
     ]
    },
    {
     "name": "stderr",
     "output_type": "stream",
     "text": [
      "100%|██████████| 94/94 [00:08<00:00, 11.28it/s]\n"
     ]
    },
    {
     "name": "stdout",
     "output_type": "stream",
     "text": [
      "geca-cut_embedding3h-k20_s42_w1_f4-SILVER_ONLY_True_n_246080000_1_PRETRAINED_MODEL_NONE.model\n"
     ]
    },
    {
     "name": "stderr",
     "output_type": "stream",
     "text": [
      "100%|██████████| 94/94 [00:08<00:00, 10.68it/s]\n"
     ]
    }
   ],
   "source": [
    "import os\n",
    "import models.InformerAutoregressiveFull as autoformer\n",
    "importlib.reload(autoformer)\n",
    "batch_size, lr, patience = 32, 0.0005, 6  # batch_size increased, patience 10 --> 6\n",
    "d, N, he, dropout = 50, 2, 4, 0.2\n",
    "model = autoformer.Model(args).cuda()\n",
    "# Load pretrained weights here.\n",
    "optimizer = torch.optim.Adam(model.parameters(), lr=lr)\n",
    "scheduler = ReduceLROnPlateau(optimizer, 'max', patience=3)\n",
    "for model_path in os.listdir(\"eicu_full_fixed/\"):\n",
    "    #if not (model_path.endswith(\"1.model\") or model_path.endswith(\"2.model\")): continue\n",
    "    #if not (\"k80\" in model_path or \"k160\" in model_path) or not(model_path.endswith(\"1.model\")): continue\n",
    "    if not (model_path.endswith(\".model\")): continue\n",
    "    print(model_path)\n",
    "    model.load_state_dict(torch.load(\"eicu_full_fixed/\"+model_path))\n",
    "    model.eval()\n",
    "    y_true, y_pred = [], []\n",
    "    #print(test_input)\n",
    "    pbar = tqdm(range(0, len(test_input), batch_size))\n",
    "    loss_list = []\n",
    "    test_loss = 0\n",
    "    test_loss_part1 = 0\n",
    "    test_loss_part2 = 0\n",
    "    sofa_losses = []\n",
    "    test_loss_sofa_variables = 0\n",
    "    accuracy_list = []\n",
    "    TP, TN, FP, FN = 0, 0, 0, 0\n",
    "    test_loss_sum_square_total = 0\n",
    "    test_loss_part1_sum_square_total = 0\n",
    "    test_loss_part2_sum_square_total = 0\n",
    "    test_loss_sofa_sum_square_total = 0\n",
    "    for start in pbar:\n",
    "        #print(start)\n",
    "        matrix = torch.tensor(test_input[start:start+batch_size], dtype=torch.float32).cuda()\n",
    "        input_matrix = matrix[:, :24]\n",
    "\n",
    "        #torch.Size([32, 24, 129])\n",
    "        input_mark = torch.arange(0, input_matrix.size(1)).unsqueeze(0).repeat(input_matrix.size(0), 1).cuda()\n",
    "        #torch.Size([32, 24])\n",
    "        input_mask = input_matrix[:, :24, V:]\n",
    "        output_matrix = matrix[:, 24:, :V]\n",
    "        #torch.Size([32, 24, 129])\n",
    "        output_mark = torch.arange(0, output_matrix.size(1)).unsqueeze(0).repeat(input_matrix.size(0), 1).cuda()\n",
    "        #torch.Size([32, 24])\n",
    "        output_mask = matrix[:, 24:, V:]\n",
    "        #torch.Size([32, 24, 129])\n",
    "        output_mark = torch.arange(0, output_matrix.size(1)).unsqueeze(0).repeat(input_matrix.size(0), 1).cuda()\n",
    "        dec_inp = torch.zeros_like(output_matrix[:, -args.pred_len:, :]).float()\n",
    "        with torch.no_grad():\n",
    "            output = model(input_matrix, input_mark, dec_inp, output_mark, trainn=False)\n",
    "            loss = output_mask[:, -args.pred_len:, :]*(\n",
    "            output-output_matrix[:, -args.pred_len:, :])**2\n",
    "        loss_list.extend(loss.sum(axis=-1).mean(axis=-1).detach().cpu().tolist())\n",
    "        loss_old = loss\n",
    "        test_loss_sum_square_total += torch.sum(loss_old.sum(axis=-1).mean(axis=-1)**2)\n",
    "        loss = loss.sum(axis=-1).mean(axis=-1).sum()\n",
    "        loss_part1 = loss_old[:, :8].sum(axis=-1).mean()\n",
    "        loss_part2 = loss_old[:, 8:].sum(axis=-1).mean()\n",
    "        test_loss+=loss\n",
    "        test_loss_part1+=loss_part1\n",
    "        test_loss_part2+=loss_part2\n",
    "\n",
    "        test_loss_part1_sum_square_total += torch.sum(loss_old[:, :8].sum(axis=-1).mean(axis=-1)**2)\n",
    "        test_loss_part2_sum_square_total += torch.sum(loss_old[:, 8:].sum(axis=-1).mean(axis=-1)**2)\n",
    "    test_loss_p = test_loss/len(test_input)\n",
    "    se_loss_p = torch.sqrt(test_loss_sum_square_total / len(test_input) - test_loss_p**2)/len(test_input)\n",
    "    test_loss_part1_p = test_loss_part1*batch_size/len(test_input)\n",
    "    test_loss_part2_p = test_loss_part2*batch_size/len(test_input)\n",
    "\n",
    "\n",
    "    model_name = model_path+'&'\n",
    "    MSE_string = \"{:.3f}\".format(test_loss_p.item()) + \"$_{[\" + \"{:.3f}\".format(test_loss_p.item()-1.96*se_loss_p.item()) +','+ \"{:.3f}\".format(test_loss_p.item()+1.96*se_loss_p.item()) + ']}$&'\n",
    "    print(model_name,MSE_string, sep='',file=open('eicu_full_fixed_other_test.txt','a'))"
   ]
  },
  {
   "cell_type": "code",
   "execution_count": 6,
   "id": "79720199",
   "metadata": {},
   "outputs": [
    {
     "name": "stdout",
     "output_type": "stream",
     "text": [
      "gold_train-SILVER_ONLY_True_n_246080_1_PRETRAINED_MODEL_geca-cut_sadlo-k10_s41_w1_f4-SILVER_ONLY_True_n_246080000_3_PRETRAINED_MODEL_NONE.model.model\n"
     ]
    },
    {
     "name": "stderr",
     "output_type": "stream",
     "text": [
      "100%|██████████| 94/94 [00:08<00:00, 11.12it/s]\n"
     ]
    },
    {
     "name": "stdout",
     "output_type": "stream",
     "text": [
      "gold_train-SILVER_ONLY_True_n_246080_1_PRETRAINED_MODEL_geca-cut_sadlo-k40_s43_w1_f4-SILVER_ONLY_True_n_246080000_2_PRETRAINED_MODEL_NONE.model.model\n"
     ]
    },
    {
     "name": "stderr",
     "output_type": "stream",
     "text": [
      "100%|██████████| 94/94 [00:08<00:00, 11.02it/s]\n"
     ]
    },
    {
     "name": "stdout",
     "output_type": "stream",
     "text": [
      "gold_train-SILVER_ONLY_True_n_246080_1_PRETRAINED_MODEL_geca-cut_sadlo-k160_s43_w1_f4-SILVER_ONLY_True_n_246080000_3_PRETRAINED_MODEL_NONE.model.model\n"
     ]
    },
    {
     "name": "stderr",
     "output_type": "stream",
     "text": [
      "100%|██████████| 94/94 [00:08<00:00, 11.09it/s]\n"
     ]
    },
    {
     "name": "stdout",
     "output_type": "stream",
     "text": [
      "gold_train-SILVER_ONLY_True_n_246080_1_PRETRAINED_MODEL_geca-cut_sadlo-k160_s42_w1_f4-SILVER_ONLY_True_n_246080000_2_PRETRAINED_MODEL_NONE.model.model\n"
     ]
    },
    {
     "name": "stderr",
     "output_type": "stream",
     "text": [
      "100%|██████████| 94/94 [00:08<00:00, 10.82it/s]\n"
     ]
    },
    {
     "name": "stdout",
     "output_type": "stream",
     "text": [
      "gold_train-SILVER_ONLY_True_n_246080_1_PRETRAINED_MODEL_geca-cut_sadlo-k10_s43_w1_f4-SILVER_ONLY_True_n_246080000_2_PRETRAINED_MODEL_NONE.model.model\n"
     ]
    },
    {
     "name": "stderr",
     "output_type": "stream",
     "text": [
      "100%|██████████| 94/94 [00:08<00:00, 11.26it/s]\n"
     ]
    },
    {
     "name": "stdout",
     "output_type": "stream",
     "text": [
      "gold_train-SILVER_ONLY_True_n_246080_1_PRETRAINED_MODEL_geca-cut_sadlo-k80_s42_w1_f4-SILVER_ONLY_True_n_246080000_3_PRETRAINED_MODEL_NONE.model.model\n"
     ]
    },
    {
     "name": "stderr",
     "output_type": "stream",
     "text": [
      "100%|██████████| 94/94 [00:08<00:00, 11.11it/s]\n"
     ]
    },
    {
     "name": "stdout",
     "output_type": "stream",
     "text": [
      "gold_train-SILVER_ONLY_True_n_246080_1_PRETRAINED_MODEL_geca-cut_embedding3h-k20_s42_w1_f4-SILVER_ONLY_True_n_246080000_2_PRETRAINED_MODEL_NONE.model.model\n"
     ]
    },
    {
     "name": "stderr",
     "output_type": "stream",
     "text": [
      "100%|██████████| 94/94 [00:08<00:00, 10.56it/s]\n"
     ]
    },
    {
     "name": "stdout",
     "output_type": "stream",
     "text": [
      "gold_train-SILVER_ONLY_True_n_246080_1_PRETRAINED_MODEL_geca-cut_sadlo-k20_s42_w1_f4-SILVER_ONLY_True_n_246080000_3_PRETRAINED_MODEL_NONE.model.model\n"
     ]
    },
    {
     "name": "stderr",
     "output_type": "stream",
     "text": [
      "100%|██████████| 94/94 [00:08<00:00, 11.05it/s]\n"
     ]
    },
    {
     "name": "stdout",
     "output_type": "stream",
     "text": [
      "gold_train-SILVER_ONLY_True_n_246080_1_PRETRAINED_MODEL_geca-cut_sadlo-k20_s43_w1_f4-SILVER_ONLY_True_n_246080000_3_PRETRAINED_MODEL_NONE.model.model\n"
     ]
    },
    {
     "name": "stderr",
     "output_type": "stream",
     "text": [
      "100%|██████████| 94/94 [00:08<00:00, 11.39it/s]\n"
     ]
    },
    {
     "name": "stdout",
     "output_type": "stream",
     "text": [
      "gold_train-SILVER_ONLY_True_n_246080_1_PRETRAINED_MODEL_cutmix-s41-SILVER_ONLY_True_n_246080000_1_PRETRAINED_MODEL_NONE.model.model\n"
     ]
    },
    {
     "name": "stderr",
     "output_type": "stream",
     "text": [
      "100%|██████████| 94/94 [00:09<00:00, 10.44it/s]\n"
     ]
    },
    {
     "name": "stdout",
     "output_type": "stream",
     "text": [
      "gold_train-SILVER_ONLY_True_n_246080_1_PRETRAINED_MODEL_geca-cut_sadlo-k160_s42_w1_f4-SILVER_ONLY_True_n_246080000_3_PRETRAINED_MODEL_NONE.model.model\n"
     ]
    },
    {
     "name": "stderr",
     "output_type": "stream",
     "text": [
      "100%|██████████| 94/94 [00:08<00:00, 11.68it/s]\n"
     ]
    },
    {
     "name": "stdout",
     "output_type": "stream",
     "text": [
      "gold_train-SILVER_ONLY_True_n_246080_1_PRETRAINED_MODEL_geca-cut_sadlo-k40_s42_w1_f4-SILVER_ONLY_True_n_246080000_3_PRETRAINED_MODEL_NONE.model.model\n"
     ]
    },
    {
     "name": "stderr",
     "output_type": "stream",
     "text": [
      "100%|██████████| 94/94 [00:08<00:00, 10.52it/s]\n"
     ]
    },
    {
     "name": "stdout",
     "output_type": "stream",
     "text": [
      "gold_train-SILVER_ONLY_True_n_246080_1_PRETRAINED_MODEL_geca-cut_sadlo-k10_s42_w1_f4-SILVER_ONLY_True_n_246080000_3_PRETRAINED_MODEL_NONE.model.model\n"
     ]
    },
    {
     "name": "stderr",
     "output_type": "stream",
     "text": [
      "100%|██████████| 94/94 [00:08<00:00, 11.05it/s]\n"
     ]
    },
    {
     "name": "stdout",
     "output_type": "stream",
     "text": [
      "gold_train-SILVER_ONLY_True_n_246080_1_PRETRAINED_MODEL_cutmix-s42-SILVER_ONLY_True_n_246080000_2_PRETRAINED_MODEL_NONE.model.model\n"
     ]
    },
    {
     "name": "stderr",
     "output_type": "stream",
     "text": [
      "100%|██████████| 94/94 [00:08<00:00, 10.75it/s]\n"
     ]
    },
    {
     "name": "stdout",
     "output_type": "stream",
     "text": [
      "gold_train-SILVER_ONLY_True_n_246080_1_PRETRAINED_MODEL_geca-cut_embedding3h-k80_s42_w1_f4-SILVER_ONLY_True_n_246080000_3_PRETRAINED_MODEL_NONE.model.model\n"
     ]
    },
    {
     "name": "stderr",
     "output_type": "stream",
     "text": [
      "100%|██████████| 94/94 [00:08<00:00, 11.34it/s]\n"
     ]
    },
    {
     "name": "stdout",
     "output_type": "stream",
     "text": [
      "gold_train-SILVER_ONLY_True_n_246080_1_PRETRAINED_MODEL_geca-cut_sadlo-k40_s41_w1_f4-SILVER_ONLY_True_n_246080000_2_PRETRAINED_MODEL_NONE.model.model\n"
     ]
    },
    {
     "name": "stderr",
     "output_type": "stream",
     "text": [
      "100%|██████████| 94/94 [00:08<00:00, 11.07it/s]\n"
     ]
    },
    {
     "name": "stdout",
     "output_type": "stream",
     "text": [
      "gold_train-SILVER_ONLY_True_n_246080_1_PRETRAINED_MODEL_geca-cut_sadlo-k20_s41_w1_f4-SILVER_ONLY_True_n_246080000_2_PRETRAINED_MODEL_NONE.model.model\n"
     ]
    },
    {
     "name": "stderr",
     "output_type": "stream",
     "text": [
      "100%|██████████| 94/94 [00:08<00:00, 11.10it/s]\n"
     ]
    },
    {
     "name": "stdout",
     "output_type": "stream",
     "text": [
      "gold_train-SILVER_ONLY_True_n_246080_1_PRETRAINED_MODEL_geca-cut_sadlo-k10_s43_w1_f4-SILVER_ONLY_True_n_246080000_3_PRETRAINED_MODEL_NONE.model.model\n"
     ]
    },
    {
     "name": "stderr",
     "output_type": "stream",
     "text": [
      "100%|██████████| 94/94 [00:08<00:00, 11.64it/s]\n"
     ]
    },
    {
     "name": "stdout",
     "output_type": "stream",
     "text": [
      "gold_train-SILVER_ONLY_True_n_246080_1_PRETRAINED_MODEL_gold_train-SILVER_ONLY_True_n_246080000_3_PRETRAINED_MODEL_NONE.model.model\n"
     ]
    },
    {
     "name": "stderr",
     "output_type": "stream",
     "text": [
      "100%|██████████| 94/94 [00:08<00:00, 11.68it/s]\n"
     ]
    },
    {
     "name": "stdout",
     "output_type": "stream",
     "text": [
      "gold_train-SILVER_ONLY_True_n_246080_1_PRETRAINED_MODEL_geca-cut_embedding3h-k40_s42_w1_f4-SILVER_ONLY_True_n_246080000_3_PRETRAINED_MODEL_NONE.model.model\n"
     ]
    },
    {
     "name": "stderr",
     "output_type": "stream",
     "text": [
      "100%|██████████| 94/94 [00:07<00:00, 12.08it/s]\n"
     ]
    },
    {
     "name": "stdout",
     "output_type": "stream",
     "text": [
      "gold_train-SILVER_ONLY_True_n_246080_1_PRETRAINED_MODEL_geca-cut_sadlo-k40_s43_w1_f4-SILVER_ONLY_True_n_246080000_1_PRETRAINED_MODEL_NONE.model.model\n"
     ]
    },
    {
     "name": "stderr",
     "output_type": "stream",
     "text": [
      "100%|██████████| 94/94 [00:08<00:00, 11.11it/s]\n"
     ]
    },
    {
     "name": "stdout",
     "output_type": "stream",
     "text": [
      "gold_train-SILVER_ONLY_True_n_246080_1_PRETRAINED_MODEL_geca-cut_sadlo-k80_s43_w1_f4-SILVER_ONLY_True_n_246080000_1_PRETRAINED_MODEL_NONE.model.model\n"
     ]
    },
    {
     "name": "stderr",
     "output_type": "stream",
     "text": [
      "100%|██████████| 94/94 [00:08<00:00, 10.78it/s]\n"
     ]
    },
    {
     "name": "stdout",
     "output_type": "stream",
     "text": [
      "gold_train-SILVER_ONLY_True_n_246080_1_PRETRAINED_MODEL_geca-cut_sadlo-k20_s42_w1_f4-SILVER_ONLY_True_n_246080000_2_PRETRAINED_MODEL_NONE.model.model\n"
     ]
    },
    {
     "name": "stderr",
     "output_type": "stream",
     "text": [
      "100%|██████████| 94/94 [00:08<00:00, 10.97it/s]\n"
     ]
    },
    {
     "name": "stdout",
     "output_type": "stream",
     "text": [
      "gold_train-SILVER_ONLY_True_n_246080_1_PRETRAINED_MODEL_geca-cut_embedding3h-k160_s42_w1_f4-SILVER_ONLY_True_n_246080000_1_PRETRAINED_MODEL_NONE.model.model\n"
     ]
    },
    {
     "name": "stderr",
     "output_type": "stream",
     "text": [
      "100%|██████████| 94/94 [00:08<00:00, 11.13it/s]\n"
     ]
    },
    {
     "name": "stdout",
     "output_type": "stream",
     "text": [
      "gold_train-SILVER_ONLY_True_n_246080_1_PRETRAINED_MODEL_geca-cut_embedding3h-k80_s42_w1_f4-SILVER_ONLY_True_n_246080000_2_PRETRAINED_MODEL_NONE.model.model\n"
     ]
    },
    {
     "name": "stderr",
     "output_type": "stream",
     "text": [
      "100%|██████████| 94/94 [00:08<00:00, 11.55it/s]\n"
     ]
    },
    {
     "name": "stdout",
     "output_type": "stream",
     "text": [
      "gold_train-SILVER_ONLY_True_n_246080_1_PRETRAINED_MODEL_geca-cut_sadlo-k40_s42_w1_f4-SILVER_ONLY_True_n_246080000_1_PRETRAINED_MODEL_NONE.model.model\n"
     ]
    },
    {
     "name": "stderr",
     "output_type": "stream",
     "text": [
      "100%|██████████| 94/94 [00:08<00:00, 11.10it/s]\n"
     ]
    },
    {
     "name": "stdout",
     "output_type": "stream",
     "text": [
      "gold_train-SILVER_ONLY_True_n_246080_1_PRETRAINED_MODEL_geca-cut_sadlo-k10_s42_w1_f4-SILVER_ONLY_True_n_246080000_2_PRETRAINED_MODEL_NONE.model.model\n"
     ]
    },
    {
     "name": "stderr",
     "output_type": "stream",
     "text": [
      "100%|██████████| 94/94 [00:08<00:00, 11.13it/s]\n"
     ]
    },
    {
     "name": "stdout",
     "output_type": "stream",
     "text": [
      "gold_train-SILVER_ONLY_True_n_246080_1_PRETRAINED_MODEL_geca-cut_sadlo-k80_s42_w1_f4-SILVER_ONLY_True_n_246080000_1_PRETRAINED_MODEL_NONE.model.model\n"
     ]
    },
    {
     "name": "stderr",
     "output_type": "stream",
     "text": [
      "100%|██████████| 94/94 [00:08<00:00, 11.10it/s]\n"
     ]
    },
    {
     "name": "stdout",
     "output_type": "stream",
     "text": [
      "gold_train-SILVER_ONLY_True_n_246080_1_PRETRAINED_MODEL_geca-cut_sadlo-k80_s41_w1_f4-SILVER_ONLY_True_n_246080000_2_PRETRAINED_MODEL_NONE.model.model\n"
     ]
    },
    {
     "name": "stderr",
     "output_type": "stream",
     "text": [
      "100%|██████████| 94/94 [00:07<00:00, 12.10it/s]\n"
     ]
    },
    {
     "name": "stdout",
     "output_type": "stream",
     "text": [
      "gold_train-SILVER_ONLY_True_n_246080_1_PRETRAINED_MODEL_gold_train-SILVER_ONLY_True_n_246080000_2_PRETRAINED_MODEL_NONE.model.model\n"
     ]
    },
    {
     "name": "stderr",
     "output_type": "stream",
     "text": [
      "100%|██████████| 94/94 [00:08<00:00, 10.98it/s]\n"
     ]
    },
    {
     "name": "stdout",
     "output_type": "stream",
     "text": [
      "gold_train-SILVER_ONLY_True_n_246080_1_PRETRAINED_MODEL_geca-cut_embedding3h-k10_s42_w1_f4-SILVER_ONLY_True_n_246080000_2_PRETRAINED_MODEL_NONE.model.model\n"
     ]
    },
    {
     "name": "stderr",
     "output_type": "stream",
     "text": [
      "100%|██████████| 94/94 [00:08<00:00, 10.78it/s]\n"
     ]
    },
    {
     "name": "stdout",
     "output_type": "stream",
     "text": [
      "gold_train-SILVER_ONLY_True_n_246080_1_PRETRAINED_MODEL_geca-cut_embedding3h-k40_s42_w1_f4-SILVER_ONLY_True_n_246080000_1_PRETRAINED_MODEL_NONE.model.model\n"
     ]
    },
    {
     "name": "stderr",
     "output_type": "stream",
     "text": [
      "100%|██████████| 94/94 [00:08<00:00, 10.83it/s]\n"
     ]
    },
    {
     "name": "stdout",
     "output_type": "stream",
     "text": [
      "gold_train-SILVER_ONLY_True_n_246080_1_PRETRAINED_MODEL_geca-cut_sadlo-k20_s41_w1_f4-SILVER_ONLY_True_n_246080000_1_PRETRAINED_MODEL_NONE.model.model\n"
     ]
    },
    {
     "name": "stderr",
     "output_type": "stream",
     "text": [
      "100%|██████████| 94/94 [00:08<00:00, 11.00it/s]\n"
     ]
    },
    {
     "name": "stdout",
     "output_type": "stream",
     "text": [
      "gold_train-SILVER_ONLY_True_n_246080_1_PRETRAINED_MODEL_geca-cut_sadlo-k80_s41_w1_f4-SILVER_ONLY_True_n_246080000_3_PRETRAINED_MODEL_NONE.model.model\n"
     ]
    },
    {
     "name": "stderr",
     "output_type": "stream",
     "text": [
      "100%|██████████| 94/94 [00:08<00:00, 10.83it/s]\n"
     ]
    },
    {
     "name": "stdout",
     "output_type": "stream",
     "text": [
      "gold_train-SILVER_ONLY_True_n_246080_1_PRETRAINED_MODEL_geca-cut_embedding3h-k160_s42_w1_f4-SILVER_ONLY_True_n_246080000_2_PRETRAINED_MODEL_NONE.model.model\n"
     ]
    },
    {
     "name": "stderr",
     "output_type": "stream",
     "text": [
      "100%|██████████| 94/94 [00:08<00:00, 11.10it/s]\n"
     ]
    },
    {
     "name": "stdout",
     "output_type": "stream",
     "text": [
      "gold_train-SILVER_ONLY_True_n_246080_1_PRETRAINED_MODEL_geca-cut_sadlo-k160_s41_w1_f4-SILVER_ONLY_True_n_246080000_1_PRETRAINED_MODEL_NONE.model.model\n"
     ]
    },
    {
     "name": "stderr",
     "output_type": "stream",
     "text": [
      "100%|██████████| 94/94 [00:08<00:00, 10.73it/s]\n"
     ]
    },
    {
     "name": "stdout",
     "output_type": "stream",
     "text": [
      "gold_train-SILVER_ONLY_True_n_246080_1_PRETRAINED_MODEL_geca-cut_sadlo-k80_s41_w1_f4-SILVER_ONLY_True_n_246080000_1_PRETRAINED_MODEL_NONE.model.model\n"
     ]
    },
    {
     "name": "stderr",
     "output_type": "stream",
     "text": [
      "100%|██████████| 94/94 [00:08<00:00, 10.70it/s]\n"
     ]
    },
    {
     "name": "stdout",
     "output_type": "stream",
     "text": [
      "gold_train-SILVER_ONLY_True_n_246080_1_PRETRAINED_MODEL_geca-cut_embedding3h-k40_s42_w1_f4-SILVER_ONLY_True_n_246080000_2_PRETRAINED_MODEL_NONE.model.model\n"
     ]
    },
    {
     "name": "stderr",
     "output_type": "stream",
     "text": [
      "100%|██████████| 94/94 [00:08<00:00, 11.57it/s]\n"
     ]
    },
    {
     "name": "stdout",
     "output_type": "stream",
     "text": [
      "gold_train-SILVER_ONLY_True_n_246080_1_PRETRAINED_MODEL_geca-cut_embedding3h-k10_s42_w1_f4-SILVER_ONLY_True_n_246080000_3_PRETRAINED_MODEL_NONE.model.model\n"
     ]
    },
    {
     "name": "stderr",
     "output_type": "stream",
     "text": [
      "100%|██████████| 94/94 [00:08<00:00, 10.67it/s]\n"
     ]
    },
    {
     "name": "stdout",
     "output_type": "stream",
     "text": [
      "gold_train-SILVER_ONLY_True_n_246080_1_PRETRAINED_MODEL_geca-cut_sadlo-k160_s41_w1_f4-SILVER_ONLY_True_n_246080000_2_PRETRAINED_MODEL_NONE.model.model\n"
     ]
    },
    {
     "name": "stderr",
     "output_type": "stream",
     "text": [
      "100%|██████████| 94/94 [00:08<00:00, 11.14it/s]\n"
     ]
    },
    {
     "name": "stdout",
     "output_type": "stream",
     "text": [
      "gold_train-SILVER_ONLY_True_n_246080_1_PRETRAINED_MODEL_geca-cut_embedding3h-k20_s42_w1_f4-SILVER_ONLY_True_n_246080000_3_PRETRAINED_MODEL_NONE.model.model\n"
     ]
    },
    {
     "name": "stderr",
     "output_type": "stream",
     "text": [
      "100%|██████████| 94/94 [00:08<00:00, 10.78it/s]\n"
     ]
    },
    {
     "name": "stdout",
     "output_type": "stream",
     "text": [
      "gold_train-SILVER_ONLY_True_n_246080_1_PRETRAINED_MODEL_geca-cut_sadlo-k40_s42_w1_f4-SILVER_ONLY_True_n_246080000_2_PRETRAINED_MODEL_NONE.model.model\n"
     ]
    },
    {
     "name": "stderr",
     "output_type": "stream",
     "text": [
      "100%|██████████| 94/94 [00:08<00:00, 11.38it/s]\n"
     ]
    },
    {
     "name": "stdout",
     "output_type": "stream",
     "text": [
      "gold_train-SILVER_ONLY_True_n_246080_1_PRETRAINED_MODEL_geca-cut_embedding3h-k10_s42_w1_f4-SILVER_ONLY_True_n_246080000_1_PRETRAINED_MODEL_NONE.model.model\n"
     ]
    },
    {
     "name": "stderr",
     "output_type": "stream",
     "text": [
      "100%|██████████| 94/94 [00:08<00:00, 11.18it/s]\n"
     ]
    },
    {
     "name": "stdout",
     "output_type": "stream",
     "text": [
      "gold_train-SILVER_ONLY_True_n_246080_1_PRETRAINED_MODEL_gold_train-SILVER_ONLY_True_n_246080000_1_PRETRAINED_MODEL_NONE.model.model\n"
     ]
    },
    {
     "name": "stderr",
     "output_type": "stream",
     "text": [
      "100%|██████████| 94/94 [00:08<00:00, 10.94it/s]\n"
     ]
    },
    {
     "name": "stdout",
     "output_type": "stream",
     "text": [
      "gold_train-SILVER_ONLY_True_n_246080_1_PRETRAINED_MODEL_geca-cut_sadlo-k20_s42_w1_f4-SILVER_ONLY_True_n_246080000_1_PRETRAINED_MODEL_NONE.model.model\n"
     ]
    },
    {
     "name": "stderr",
     "output_type": "stream",
     "text": [
      "100%|██████████| 94/94 [00:08<00:00, 10.53it/s]\n"
     ]
    },
    {
     "name": "stdout",
     "output_type": "stream",
     "text": [
      "gold_train-SILVER_ONLY_True_n_246080_1_PRETRAINED_MODEL_cutmix-s41-SILVER_ONLY_True_n_246080000_2_PRETRAINED_MODEL_NONE.model.model\n"
     ]
    },
    {
     "name": "stderr",
     "output_type": "stream",
     "text": [
      "100%|██████████| 94/94 [00:08<00:00, 11.36it/s]\n"
     ]
    },
    {
     "name": "stdout",
     "output_type": "stream",
     "text": [
      "gold_train-SILVER_ONLY_True_n_246080_1_PRETRAINED_MODEL_cutmix-s43-SILVER_ONLY_True_n_246080000_1_PRETRAINED_MODEL_NONE.model.model\n"
     ]
    },
    {
     "name": "stderr",
     "output_type": "stream",
     "text": [
      "100%|██████████| 94/94 [00:07<00:00, 12.34it/s]\n"
     ]
    },
    {
     "name": "stdout",
     "output_type": "stream",
     "text": [
      "gold_train-SILVER_ONLY_True_n_246080_1_PRETRAINED_MODEL_geca-cut_sadlo-k160_s42_w1_f4-SILVER_ONLY_True_n_246080000_1_PRETRAINED_MODEL_NONE.model.model\n"
     ]
    },
    {
     "name": "stderr",
     "output_type": "stream",
     "text": [
      "100%|██████████| 94/94 [00:05<00:00, 17.17it/s]\n"
     ]
    },
    {
     "name": "stdout",
     "output_type": "stream",
     "text": [
      "gold_train-SILVER_ONLY_True_n_246080_1_PRETRAINED_MODEL_geca-cut_sadlo-k160_s43_w1_f4-SILVER_ONLY_True_n_246080000_1_PRETRAINED_MODEL_NONE.model.model\n"
     ]
    },
    {
     "name": "stderr",
     "output_type": "stream",
     "text": [
      "100%|██████████| 94/94 [00:05<00:00, 16.60it/s]\n"
     ]
    },
    {
     "name": "stdout",
     "output_type": "stream",
     "text": [
      "gold_train-SILVER_ONLY_True_n_246080_1_PRETRAINED_MODEL_geca-cut_sadlo-k20_s43_w1_f4-SILVER_ONLY_True_n_246080000_1_PRETRAINED_MODEL_NONE.model.model\n"
     ]
    },
    {
     "name": "stderr",
     "output_type": "stream",
     "text": [
      "100%|██████████| 94/94 [00:05<00:00, 16.63it/s]\n"
     ]
    },
    {
     "name": "stdout",
     "output_type": "stream",
     "text": [
      "gold_train-SILVER_ONLY_True_n_246080_1_PRETRAINED_MODEL_geca-cut_sadlo-k10_s42_w1_f4-SILVER_ONLY_True_n_246080000_1_PRETRAINED_MODEL_NONE.model.model\n"
     ]
    },
    {
     "name": "stderr",
     "output_type": "stream",
     "text": [
      "100%|██████████| 94/94 [00:05<00:00, 16.79it/s]\n"
     ]
    },
    {
     "name": "stdout",
     "output_type": "stream",
     "text": [
      "gold_train-SILVER_ONLY_True_n_246080_1_PRETRAINED_MODEL_geca-cut_sadlo-k160_s43_w1_f4-SILVER_ONLY_True_n_246080000_2_PRETRAINED_MODEL_NONE.model.model\n"
     ]
    },
    {
     "name": "stderr",
     "output_type": "stream",
     "text": [
      "100%|██████████| 94/94 [00:05<00:00, 17.02it/s]\n"
     ]
    },
    {
     "name": "stdout",
     "output_type": "stream",
     "text": [
      "gold_train-SILVER_ONLY_True_n_246080_1_PRETRAINED_MODEL_geca-cut_sadlo-k10_s41_w1_f4-SILVER_ONLY_True_n_246080000_2_PRETRAINED_MODEL_NONE.model.model\n"
     ]
    },
    {
     "name": "stderr",
     "output_type": "stream",
     "text": [
      "100%|██████████| 94/94 [00:04<00:00, 18.81it/s]\n"
     ]
    },
    {
     "name": "stdout",
     "output_type": "stream",
     "text": [
      "gold_train-SILVER_ONLY_True_n_246080_1_PRETRAINED_MODEL_geca-cut_sadlo-k160_s41_w1_f4-SILVER_ONLY_True_n_246080000_3_PRETRAINED_MODEL_NONE.model.model\n"
     ]
    },
    {
     "name": "stderr",
     "output_type": "stream",
     "text": [
      "100%|██████████| 94/94 [00:05<00:00, 16.88it/s]\n"
     ]
    },
    {
     "name": "stdout",
     "output_type": "stream",
     "text": [
      "gold_train-SILVER_ONLY_True_n_246080_1_PRETRAINED_MODEL_geca-cut_sadlo-k10_s43_w1_f4-SILVER_ONLY_True_n_246080000_1_PRETRAINED_MODEL_NONE.model.model\n"
     ]
    },
    {
     "name": "stderr",
     "output_type": "stream",
     "text": [
      "100%|██████████| 94/94 [00:05<00:00, 18.40it/s]\n"
     ]
    },
    {
     "name": "stdout",
     "output_type": "stream",
     "text": [
      "gold_train-SILVER_ONLY_True_n_246080_1_PRETRAINED_MODEL_geca-cut_sadlo-k40_s41_w1_f4-SILVER_ONLY_True_n_246080000_3_PRETRAINED_MODEL_NONE.model.model\n"
     ]
    },
    {
     "name": "stderr",
     "output_type": "stream",
     "text": [
      "100%|██████████| 94/94 [00:05<00:00, 16.74it/s]\n"
     ]
    },
    {
     "name": "stdout",
     "output_type": "stream",
     "text": [
      "gold_train-SILVER_ONLY_True_n_246080_1_PRETRAINED_MODEL_geca-cut_sadlo-k20_s41_w1_f4-SILVER_ONLY_True_n_246080000_3_PRETRAINED_MODEL_NONE.model.model\n"
     ]
    },
    {
     "name": "stderr",
     "output_type": "stream",
     "text": [
      "100%|██████████| 94/94 [00:05<00:00, 16.77it/s]\n"
     ]
    },
    {
     "name": "stdout",
     "output_type": "stream",
     "text": [
      "gold_train-SILVER_ONLY_True_n_246080_1_PRETRAINED_MODEL_geca-cut_embedding3h-k20_s42_w1_f4-SILVER_ONLY_True_n_246080000_1_PRETRAINED_MODEL_NONE.model.model\n"
     ]
    },
    {
     "name": "stderr",
     "output_type": "stream",
     "text": [
      "100%|██████████| 94/94 [00:05<00:00, 17.18it/s]\n"
     ]
    },
    {
     "name": "stdout",
     "output_type": "stream",
     "text": [
      "gold_train-SILVER_ONLY_True_n_246080_1_PRETRAINED_MODEL_cutmix-s42-SILVER_ONLY_True_n_246080000_3_PRETRAINED_MODEL_NONE.model.model\n"
     ]
    },
    {
     "name": "stderr",
     "output_type": "stream",
     "text": [
      "100%|██████████| 94/94 [00:05<00:00, 16.90it/s]\n"
     ]
    },
    {
     "name": "stdout",
     "output_type": "stream",
     "text": [
      "gold_train-SILVER_ONLY_True_n_246080_1_PRETRAINED_MODEL_cutmix-s43-SILVER_ONLY_True_n_246080000_3_PRETRAINED_MODEL_NONE.model.model\n"
     ]
    },
    {
     "name": "stderr",
     "output_type": "stream",
     "text": [
      "100%|██████████| 94/94 [00:05<00:00, 16.97it/s]\n"
     ]
    },
    {
     "name": "stdout",
     "output_type": "stream",
     "text": [
      "gold_train-SILVER_ONLY_True_n_246080_1_PRETRAINED_MODEL_geca-cut_embedding3h-k160_s42_w1_f4-SILVER_ONLY_True_n_246080000_3_PRETRAINED_MODEL_NONE.model.model\n"
     ]
    },
    {
     "name": "stderr",
     "output_type": "stream",
     "text": [
      "100%|██████████| 94/94 [00:05<00:00, 16.76it/s]\n"
     ]
    },
    {
     "name": "stdout",
     "output_type": "stream",
     "text": [
      "gold_train-SILVER_ONLY_True_n_246080_1_PRETRAINED_MODEL_geca-cut_sadlo-k20_s43_w1_f4-SILVER_ONLY_True_n_246080000_2_PRETRAINED_MODEL_NONE.model.model\n"
     ]
    },
    {
     "name": "stderr",
     "output_type": "stream",
     "text": [
      "100%|██████████| 94/94 [00:05<00:00, 16.39it/s]\n"
     ]
    },
    {
     "name": "stdout",
     "output_type": "stream",
     "text": [
      "gold_train-SILVER_ONLY_True_n_246080_1_PRETRAINED_MODEL_geca-cut_sadlo-k80_s43_w1_f4-SILVER_ONLY_True_n_246080000_2_PRETRAINED_MODEL_NONE.model.model\n"
     ]
    },
    {
     "name": "stderr",
     "output_type": "stream",
     "text": [
      "100%|██████████| 94/94 [00:05<00:00, 17.08it/s]\n"
     ]
    },
    {
     "name": "stdout",
     "output_type": "stream",
     "text": [
      "gold_train-SILVER_ONLY_True_n_246080_1_PRETRAINED_MODEL_geca-cut_sadlo-k80_s43_w1_f4-SILVER_ONLY_True_n_246080000_3_PRETRAINED_MODEL_NONE.model.model\n"
     ]
    },
    {
     "name": "stderr",
     "output_type": "stream",
     "text": [
      "100%|██████████| 94/94 [00:05<00:00, 17.01it/s]\n"
     ]
    },
    {
     "name": "stdout",
     "output_type": "stream",
     "text": [
      "gold_train-SILVER_ONLY_True_n_246080_1_PRETRAINED_MODEL_geca-cut_sadlo-k40_s41_w1_f4-SILVER_ONLY_True_n_246080000_1_PRETRAINED_MODEL_NONE.model.model\n"
     ]
    },
    {
     "name": "stderr",
     "output_type": "stream",
     "text": [
      "100%|██████████| 94/94 [00:05<00:00, 18.56it/s]\n"
     ]
    },
    {
     "name": "stdout",
     "output_type": "stream",
     "text": [
      "gold_train-SILVER_ONLY_True_n_246080_1_PRETRAINED_MODEL_cutmix-s41-SILVER_ONLY_True_n_246080000_3_PRETRAINED_MODEL_NONE.model.model\n"
     ]
    },
    {
     "name": "stderr",
     "output_type": "stream",
     "text": [
      "100%|██████████| 94/94 [00:05<00:00, 16.79it/s]\n"
     ]
    },
    {
     "name": "stdout",
     "output_type": "stream",
     "text": [
      "gold_train-SILVER_ONLY_True_n_246080_1_PRETRAINED_MODEL_cutmix-s43-SILVER_ONLY_True_n_246080000_2_PRETRAINED_MODEL_NONE.model.model\n"
     ]
    },
    {
     "name": "stderr",
     "output_type": "stream",
     "text": [
      "100%|██████████| 94/94 [00:05<00:00, 16.63it/s]\n"
     ]
    },
    {
     "name": "stdout",
     "output_type": "stream",
     "text": [
      "gold_train-SILVER_ONLY_True_n_246080_1_PRETRAINED_MODEL_cutmix-s42-SILVER_ONLY_True_n_246080000_1_PRETRAINED_MODEL_NONE.model.model\n"
     ]
    },
    {
     "name": "stderr",
     "output_type": "stream",
     "text": [
      "100%|██████████| 94/94 [00:05<00:00, 16.58it/s]\n"
     ]
    },
    {
     "name": "stdout",
     "output_type": "stream",
     "text": [
      "gold_train-SILVER_ONLY_True_n_246080_1_PRETRAINED_MODEL_geca-cut_embedding3h-k80_s42_w1_f4-SILVER_ONLY_True_n_246080000_1_PRETRAINED_MODEL_NONE.model.model\n"
     ]
    },
    {
     "name": "stderr",
     "output_type": "stream",
     "text": [
      "100%|██████████| 94/94 [00:05<00:00, 18.23it/s]\n"
     ]
    },
    {
     "name": "stdout",
     "output_type": "stream",
     "text": [
      "gold_train-SILVER_ONLY_True_n_246080_1_PRETRAINED_MODEL_geca-cut_sadlo-k80_s42_w1_f4-SILVER_ONLY_True_n_246080000_2_PRETRAINED_MODEL_NONE.model.model\n"
     ]
    },
    {
     "name": "stderr",
     "output_type": "stream",
     "text": [
      "100%|██████████| 94/94 [00:05<00:00, 16.83it/s]\n"
     ]
    },
    {
     "name": "stdout",
     "output_type": "stream",
     "text": [
      "gold_train-SILVER_ONLY_True_n_246080_1_PRETRAINED_MODEL_geca-cut_sadlo-k40_s43_w1_f4-SILVER_ONLY_True_n_246080000_3_PRETRAINED_MODEL_NONE.model.model\n"
     ]
    },
    {
     "name": "stderr",
     "output_type": "stream",
     "text": [
      "100%|██████████| 94/94 [00:05<00:00, 17.34it/s]\n"
     ]
    },
    {
     "name": "stdout",
     "output_type": "stream",
     "text": [
      "gold_train-SILVER_ONLY_True_n_246080_1_PRETRAINED_MODEL_geca-cut_sadlo-k10_s41_w1_f4-SILVER_ONLY_True_n_246080000_1_PRETRAINED_MODEL_NONE.model.model\n"
     ]
    },
    {
     "name": "stderr",
     "output_type": "stream",
     "text": [
      "100%|██████████| 94/94 [00:05<00:00, 17.16it/s]\n"
     ]
    }
   ],
   "source": [
    "import os\n",
    "import models.InformerAutoregressiveFull as autoformer\n",
    "importlib.reload(autoformer)\n",
    "batch_size, lr, patience = 32, 0.0005, 6  # batch_size increased, patience 10 --> 6\n",
    "d, N, he, dropout = 50, 2, 4, 0.2\n",
    "model = autoformer.Model(args).cuda()\n",
    "# Load pretrained weights here.\n",
    "optimizer = torch.optim.Adam(model.parameters(), lr=lr)\n",
    "scheduler = ReduceLROnPlateau(optimizer, 'max', patience=3)\n",
    "for model_path in os.listdir(\"eicu_full_fixed_finetune/\"):\n",
    "    #if not (model_path.endswith(\"1.model\") or model_path.endswith(\"2.model\")): continue\n",
    "    #if not (\"k80\" in model_path or \"k160\" in model_path) or not(model_path.endswith(\"1.model\")): continue\n",
    "    if not (model_path.endswith(\".model\")): continue\n",
    "    print(model_path)\n",
    "    model.load_state_dict(torch.load(\"eicu_full_fixed_finetune/\"+model_path))\n",
    "    model.eval()\n",
    "    y_true, y_pred = [], []\n",
    "    #print(test_input)\n",
    "    pbar = tqdm(range(0, len(test_input), batch_size))\n",
    "    loss_list = []\n",
    "    test_loss = 0\n",
    "    test_loss_part1 = 0\n",
    "    test_loss_part2 = 0\n",
    "    sofa_losses = []\n",
    "    test_loss_sofa_variables = 0\n",
    "    accuracy_list = []\n",
    "    TP, TN, FP, FN = 0, 0, 0, 0\n",
    "    test_loss_sum_square_total = 0\n",
    "    test_loss_part1_sum_square_total = 0\n",
    "    test_loss_part2_sum_square_total = 0\n",
    "    test_loss_sofa_sum_square_total = 0\n",
    "    for start in pbar:\n",
    "        #print(start)\n",
    "        matrix = torch.tensor(test_input[start:start+batch_size], dtype=torch.float32).cuda()\n",
    "        input_matrix = matrix[:, :24]\n",
    "\n",
    "        #torch.Size([32, 24, 129])\n",
    "        input_mark = torch.arange(0, input_matrix.size(1)).unsqueeze(0).repeat(input_matrix.size(0), 1).cuda()\n",
    "        #torch.Size([32, 24])\n",
    "        input_mask = input_matrix[:, :24, V:]\n",
    "        output_matrix = matrix[:, 24:, :V]\n",
    "        #torch.Size([32, 24, 129])\n",
    "        output_mark = torch.arange(0, output_matrix.size(1)).unsqueeze(0).repeat(input_matrix.size(0), 1).cuda()\n",
    "        #torch.Size([32, 24])\n",
    "        output_mask = matrix[:, 24:, V:]\n",
    "        #torch.Size([32, 24, 129])\n",
    "        output_mark = torch.arange(0, output_matrix.size(1)).unsqueeze(0).repeat(input_matrix.size(0), 1).cuda()\n",
    "        dec_inp = torch.zeros_like(output_matrix[:, -args.pred_len:, :]).float()\n",
    "        with torch.no_grad():\n",
    "            output = model(input_matrix, input_mark, dec_inp, output_mark, trainn=False)\n",
    "            loss = output_mask[:, -args.pred_len:, :]*(\n",
    "            output-output_matrix[:, -args.pred_len:, :])**2\n",
    "        loss_list.extend(loss.sum(axis=-1).mean(axis=-1).detach().cpu().tolist())\n",
    "        loss_old = loss\n",
    "        test_loss_sum_square_total += torch.sum(loss_old.sum(axis=-1).mean(axis=-1)**2)\n",
    "        loss = loss.sum(axis=-1).mean(axis=-1).sum()\n",
    "        loss_part1 = loss_old[:, :8].sum(axis=-1).mean()\n",
    "        loss_part2 = loss_old[:, 8:].sum(axis=-1).mean()\n",
    "        test_loss+=loss\n",
    "        test_loss_part1+=loss_part1\n",
    "        test_loss_part2+=loss_part2\n",
    "\n",
    "        test_loss_part1_sum_square_total += torch.sum(loss_old[:, :8].sum(axis=-1).mean(axis=-1)**2)\n",
    "        test_loss_part2_sum_square_total += torch.sum(loss_old[:, 8:].sum(axis=-1).mean(axis=-1)**2)\n",
    "    test_loss_p = test_loss/len(test_input)\n",
    "    se_loss_p = torch.sqrt(test_loss_sum_square_total / len(test_input) - test_loss_p**2)/len(test_input)\n",
    "    test_loss_part1_p = test_loss_part1*batch_size/len(test_input)\n",
    "    test_loss_part2_p = test_loss_part2*batch_size/len(test_input)\n",
    "\n",
    "\n",
    "    model_name = model_path+'&'\n",
    "    MSE_string = \"{:.3f}\".format(test_loss_p.item()) + \"$_{[\" + \"{:.3f}\".format(test_loss_p.item()-1.96*se_loss_p.item()) +','+ \"{:.3f}\".format(test_loss_p.item()+1.96*se_loss_p.item()) + ']}$&'\n",
    "    print(model_name,MSE_string, sep='',file=open('eicu_full_fixed_finetune_other_test.txt','a'))"
   ]
  },
  {
   "cell_type": "code",
   "execution_count": 7,
   "id": "345964b0",
   "metadata": {},
   "outputs": [
    {
     "name": "stdout",
     "output_type": "stream",
     "text": [
      "gold_train-SILVER_ONLY_True_n_246080_1_PRETRAINED_MODEL_geca-cut_sadlo-k10_s41_w1_f4-SILVER_ONLY_True_n_246080000_3_PRETRAINED_MODEL_NONE.model.model\n"
     ]
    },
    {
     "name": "stderr",
     "output_type": "stream",
     "text": [
      "100%|██████████| 94/94 [00:05<00:00, 16.22it/s]\n"
     ]
    },
    {
     "name": "stdout",
     "output_type": "stream",
     "text": [
      "gold_train-SILVER_ONLY_True_n_246080_1_PRETRAINED_MODEL_geca-cut_sadlo-k40_s43_w1_f4-SILVER_ONLY_True_n_246080000_2_PRETRAINED_MODEL_NONE.model.model\n"
     ]
    },
    {
     "name": "stderr",
     "output_type": "stream",
     "text": [
      "100%|██████████| 94/94 [00:05<00:00, 16.70it/s]\n"
     ]
    },
    {
     "name": "stdout",
     "output_type": "stream",
     "text": [
      "gold_train-SILVER_ONLY_True_n_246080_1_PRETRAINED_MODEL_geca-cut_sadlo-k160_s43_w1_f4-SILVER_ONLY_True_n_246080000_3_PRETRAINED_MODEL_NONE.model.model\n"
     ]
    },
    {
     "name": "stderr",
     "output_type": "stream",
     "text": [
      "100%|██████████| 94/94 [00:05<00:00, 16.61it/s]\n"
     ]
    },
    {
     "name": "stdout",
     "output_type": "stream",
     "text": [
      "gold_train-SILVER_ONLY_True_n_246080_1_PRETRAINED_MODEL_geca-cut_sadlo-k160_s42_w1_f4-SILVER_ONLY_True_n_246080000_2_PRETRAINED_MODEL_NONE.model.model\n"
     ]
    },
    {
     "name": "stderr",
     "output_type": "stream",
     "text": [
      "100%|██████████| 94/94 [00:05<00:00, 17.36it/s]\n"
     ]
    },
    {
     "name": "stdout",
     "output_type": "stream",
     "text": [
      "gold_train-SILVER_ONLY_True_n_246080_1_PRETRAINED_MODEL_geca-cut_sadlo-k10_s43_w1_f4-SILVER_ONLY_True_n_246080000_2_PRETRAINED_MODEL_NONE.model.model\n"
     ]
    },
    {
     "name": "stderr",
     "output_type": "stream",
     "text": [
      "100%|██████████| 94/94 [00:05<00:00, 16.99it/s]\n"
     ]
    },
    {
     "name": "stdout",
     "output_type": "stream",
     "text": [
      "gold_train-SILVER_ONLY_True_n_246080_1_PRETRAINED_MODEL_geca-cut_sadlo-k80_s42_w1_f4-SILVER_ONLY_True_n_246080000_3_PRETRAINED_MODEL_NONE.model.model\n"
     ]
    },
    {
     "name": "stderr",
     "output_type": "stream",
     "text": [
      "100%|██████████| 94/94 [00:05<00:00, 18.44it/s]\n"
     ]
    },
    {
     "name": "stdout",
     "output_type": "stream",
     "text": [
      "gold_train-SILVER_ONLY_True_n_246080_1_PRETRAINED_MODEL_geca-cut_embedding3h-k20_s42_w1_f4-SILVER_ONLY_True_n_246080000_2_PRETRAINED_MODEL_NONE.model.model\n"
     ]
    },
    {
     "name": "stderr",
     "output_type": "stream",
     "text": [
      "100%|██████████| 94/94 [00:05<00:00, 16.89it/s]\n"
     ]
    },
    {
     "name": "stdout",
     "output_type": "stream",
     "text": [
      "gold_train-SILVER_ONLY_True_n_246080_1_PRETRAINED_MODEL_geca-cut_sadlo-k20_s42_w1_f4-SILVER_ONLY_True_n_246080000_3_PRETRAINED_MODEL_NONE.model.model\n"
     ]
    },
    {
     "name": "stderr",
     "output_type": "stream",
     "text": [
      "100%|██████████| 94/94 [00:05<00:00, 17.12it/s]\n"
     ]
    },
    {
     "name": "stdout",
     "output_type": "stream",
     "text": [
      "gold_train-SILVER_ONLY_True_n_246080_1_PRETRAINED_MODEL_geca-cut_sadlo-k20_s43_w1_f4-SILVER_ONLY_True_n_246080000_3_PRETRAINED_MODEL_NONE.model.model\n"
     ]
    },
    {
     "name": "stderr",
     "output_type": "stream",
     "text": [
      "100%|██████████| 94/94 [00:05<00:00, 17.47it/s]\n"
     ]
    },
    {
     "name": "stdout",
     "output_type": "stream",
     "text": [
      "gold_train-SILVER_ONLY_True_n_246080_1_PRETRAINED_MODEL_cutmix-s41-SILVER_ONLY_True_n_246080000_1_PRETRAINED_MODEL_NONE.model.model\n"
     ]
    },
    {
     "name": "stderr",
     "output_type": "stream",
     "text": [
      "100%|██████████| 94/94 [00:05<00:00, 16.89it/s]\n"
     ]
    },
    {
     "name": "stdout",
     "output_type": "stream",
     "text": [
      "gold_train-SILVER_ONLY_True_n_246080_1_PRETRAINED_MODEL_geca-cut_sadlo-k160_s42_w1_f4-SILVER_ONLY_True_n_246080000_3_PRETRAINED_MODEL_NONE.model.model\n"
     ]
    },
    {
     "name": "stderr",
     "output_type": "stream",
     "text": [
      "100%|██████████| 94/94 [00:05<00:00, 18.48it/s]\n"
     ]
    },
    {
     "name": "stdout",
     "output_type": "stream",
     "text": [
      "gold_train-SILVER_ONLY_True_n_246080_1_PRETRAINED_MODEL_geca-cut_sadlo-k40_s42_w1_f4-SILVER_ONLY_True_n_246080000_3_PRETRAINED_MODEL_NONE.model.model\n"
     ]
    },
    {
     "name": "stderr",
     "output_type": "stream",
     "text": [
      "100%|██████████| 94/94 [00:05<00:00, 16.71it/s]\n"
     ]
    },
    {
     "name": "stdout",
     "output_type": "stream",
     "text": [
      "gold_train-SILVER_ONLY_True_n_246080_1_PRETRAINED_MODEL_geca-cut_sadlo-k10_s42_w1_f4-SILVER_ONLY_True_n_246080000_3_PRETRAINED_MODEL_NONE.model.model\n"
     ]
    },
    {
     "name": "stderr",
     "output_type": "stream",
     "text": [
      "100%|██████████| 94/94 [00:05<00:00, 17.47it/s]\n"
     ]
    },
    {
     "name": "stdout",
     "output_type": "stream",
     "text": [
      "gold_train-SILVER_ONLY_True_n_246080_1_PRETRAINED_MODEL_cutmix-s42-SILVER_ONLY_True_n_246080000_2_PRETRAINED_MODEL_NONE.model.model\n"
     ]
    },
    {
     "name": "stderr",
     "output_type": "stream",
     "text": [
      "100%|██████████| 94/94 [00:05<00:00, 16.84it/s]\n"
     ]
    },
    {
     "name": "stdout",
     "output_type": "stream",
     "text": [
      "gold_train-SILVER_ONLY_True_n_246080_1_PRETRAINED_MODEL_geca-cut_embedding3h-k80_s42_w1_f4-SILVER_ONLY_True_n_246080000_3_PRETRAINED_MODEL_NONE.model.model\n"
     ]
    },
    {
     "name": "stderr",
     "output_type": "stream",
     "text": [
      "100%|██████████| 94/94 [00:05<00:00, 18.43it/s]\n"
     ]
    },
    {
     "name": "stdout",
     "output_type": "stream",
     "text": [
      "gold_train-SILVER_ONLY_True_n_246080_1_PRETRAINED_MODEL_geca-cut_sadlo-k40_s41_w1_f4-SILVER_ONLY_True_n_246080000_2_PRETRAINED_MODEL_NONE.model.model\n"
     ]
    },
    {
     "name": "stderr",
     "output_type": "stream",
     "text": [
      "100%|██████████| 94/94 [00:05<00:00, 17.37it/s]\n"
     ]
    },
    {
     "name": "stdout",
     "output_type": "stream",
     "text": [
      "gold_train-SILVER_ONLY_True_n_246080_1_PRETRAINED_MODEL_geca-cut_sadlo-k20_s41_w1_f4-SILVER_ONLY_True_n_246080000_2_PRETRAINED_MODEL_NONE.model.model\n"
     ]
    },
    {
     "name": "stderr",
     "output_type": "stream",
     "text": [
      "100%|██████████| 94/94 [00:05<00:00, 16.79it/s]\n"
     ]
    },
    {
     "name": "stdout",
     "output_type": "stream",
     "text": [
      "gold_train-SILVER_ONLY_True_n_246080_1_PRETRAINED_MODEL_geca-cut_sadlo-k10_s43_w1_f4-SILVER_ONLY_True_n_246080000_3_PRETRAINED_MODEL_NONE.model.model\n"
     ]
    },
    {
     "name": "stderr",
     "output_type": "stream",
     "text": [
      "100%|██████████| 94/94 [00:05<00:00, 16.97it/s]\n"
     ]
    },
    {
     "name": "stdout",
     "output_type": "stream",
     "text": [
      "gold_train-SILVER_ONLY_True_n_246080_1_PRETRAINED_MODEL_gold_train-SILVER_ONLY_True_n_246080000_3_PRETRAINED_MODEL_NONE.model.model\n"
     ]
    },
    {
     "name": "stderr",
     "output_type": "stream",
     "text": [
      "100%|██████████| 94/94 [00:05<00:00, 18.45it/s]\n"
     ]
    },
    {
     "name": "stdout",
     "output_type": "stream",
     "text": [
      "gold_train-SILVER_ONLY_True_n_246080_1_PRETRAINED_MODEL_geca-cut_embedding3h-k40_s42_w1_f4-SILVER_ONLY_True_n_246080000_3_PRETRAINED_MODEL_NONE.model.model\n"
     ]
    },
    {
     "name": "stderr",
     "output_type": "stream",
     "text": [
      "100%|██████████| 94/94 [00:05<00:00, 17.15it/s]\n"
     ]
    },
    {
     "name": "stdout",
     "output_type": "stream",
     "text": [
      "gold_train-SILVER_ONLY_True_n_246080_1_PRETRAINED_MODEL_geca-cut_sadlo-k40_s43_w1_f4-SILVER_ONLY_True_n_246080000_1_PRETRAINED_MODEL_NONE.model.model\n"
     ]
    },
    {
     "name": "stderr",
     "output_type": "stream",
     "text": [
      "100%|██████████| 94/94 [00:05<00:00, 18.40it/s]\n"
     ]
    },
    {
     "name": "stdout",
     "output_type": "stream",
     "text": [
      "gold_train-SILVER_ONLY_True_n_246080_1_PRETRAINED_MODEL_geca-cut_sadlo-k80_s43_w1_f4-SILVER_ONLY_True_n_246080000_1_PRETRAINED_MODEL_NONE.model.model\n"
     ]
    },
    {
     "name": "stderr",
     "output_type": "stream",
     "text": [
      "100%|██████████| 94/94 [00:05<00:00, 16.77it/s]\n"
     ]
    },
    {
     "name": "stdout",
     "output_type": "stream",
     "text": [
      "gold_train-SILVER_ONLY_True_n_246080_1_PRETRAINED_MODEL_geca-cut_sadlo-k20_s42_w1_f4-SILVER_ONLY_True_n_246080000_2_PRETRAINED_MODEL_NONE.model.model\n"
     ]
    },
    {
     "name": "stderr",
     "output_type": "stream",
     "text": [
      "100%|██████████| 94/94 [00:05<00:00, 16.97it/s]\n"
     ]
    },
    {
     "name": "stdout",
     "output_type": "stream",
     "text": [
      "gold_train-SILVER_ONLY_True_n_246080_1_PRETRAINED_MODEL_geca-cut_embedding3h-k160_s42_w1_f4-SILVER_ONLY_True_n_246080000_1_PRETRAINED_MODEL_NONE.model.model\n"
     ]
    },
    {
     "name": "stderr",
     "output_type": "stream",
     "text": [
      "100%|██████████| 94/94 [00:05<00:00, 16.97it/s]\n"
     ]
    },
    {
     "name": "stdout",
     "output_type": "stream",
     "text": [
      "gold_train-SILVER_ONLY_True_n_246080_1_PRETRAINED_MODEL_geca-cut_embedding3h-k80_s42_w1_f4-SILVER_ONLY_True_n_246080000_2_PRETRAINED_MODEL_NONE.model.model\n"
     ]
    },
    {
     "name": "stderr",
     "output_type": "stream",
     "text": [
      "100%|██████████| 94/94 [00:05<00:00, 17.35it/s]\n"
     ]
    },
    {
     "name": "stdout",
     "output_type": "stream",
     "text": [
      "gold_train-SILVER_ONLY_True_n_246080_1_PRETRAINED_MODEL_geca-cut_sadlo-k40_s42_w1_f4-SILVER_ONLY_True_n_246080000_1_PRETRAINED_MODEL_NONE.model.model\n"
     ]
    },
    {
     "name": "stderr",
     "output_type": "stream",
     "text": [
      "100%|██████████| 94/94 [00:05<00:00, 16.83it/s]\n"
     ]
    },
    {
     "name": "stdout",
     "output_type": "stream",
     "text": [
      "gold_train-SILVER_ONLY_True_n_246080_1_PRETRAINED_MODEL_geca-cut_sadlo-k10_s42_w1_f4-SILVER_ONLY_True_n_246080000_2_PRETRAINED_MODEL_NONE.model.model\n"
     ]
    },
    {
     "name": "stderr",
     "output_type": "stream",
     "text": [
      "100%|██████████| 94/94 [00:05<00:00, 16.60it/s]\n"
     ]
    },
    {
     "name": "stdout",
     "output_type": "stream",
     "text": [
      "gold_train-SILVER_ONLY_True_n_246080_1_PRETRAINED_MODEL_geca-cut_sadlo-k80_s42_w1_f4-SILVER_ONLY_True_n_246080000_1_PRETRAINED_MODEL_NONE.model.model\n"
     ]
    },
    {
     "name": "stderr",
     "output_type": "stream",
     "text": [
      "100%|██████████| 94/94 [00:05<00:00, 16.42it/s]\n"
     ]
    },
    {
     "name": "stdout",
     "output_type": "stream",
     "text": [
      "gold_train-SILVER_ONLY_True_n_246080_1_PRETRAINED_MODEL_geca-cut_sadlo-k80_s41_w1_f4-SILVER_ONLY_True_n_246080000_2_PRETRAINED_MODEL_NONE.model.model\n"
     ]
    },
    {
     "name": "stderr",
     "output_type": "stream",
     "text": [
      "100%|██████████| 94/94 [00:05<00:00, 16.28it/s]\n"
     ]
    },
    {
     "name": "stdout",
     "output_type": "stream",
     "text": [
      "gold_train-SILVER_ONLY_True_n_246080_1_PRETRAINED_MODEL_gold_train-SILVER_ONLY_True_n_246080000_2_PRETRAINED_MODEL_NONE.model.model\n"
     ]
    },
    {
     "name": "stderr",
     "output_type": "stream",
     "text": [
      "100%|██████████| 94/94 [00:05<00:00, 16.34it/s]\n"
     ]
    },
    {
     "name": "stdout",
     "output_type": "stream",
     "text": [
      "gold_train-SILVER_ONLY_True_n_246080_1_PRETRAINED_MODEL_geca-cut_embedding3h-k10_s42_w1_f4-SILVER_ONLY_True_n_246080000_2_PRETRAINED_MODEL_NONE.model.model\n"
     ]
    },
    {
     "name": "stderr",
     "output_type": "stream",
     "text": [
      "100%|██████████| 94/94 [00:05<00:00, 16.71it/s]\n"
     ]
    },
    {
     "name": "stdout",
     "output_type": "stream",
     "text": [
      "gold_train-SILVER_ONLY_True_n_246080_1_PRETRAINED_MODEL_geca-cut_embedding3h-k40_s42_w1_f4-SILVER_ONLY_True_n_246080000_1_PRETRAINED_MODEL_NONE.model.model\n"
     ]
    },
    {
     "name": "stderr",
     "output_type": "stream",
     "text": [
      "100%|██████████| 94/94 [00:05<00:00, 16.51it/s]\n"
     ]
    },
    {
     "name": "stdout",
     "output_type": "stream",
     "text": [
      "gold_train-SILVER_ONLY_True_n_246080_1_PRETRAINED_MODEL_geca-cut_sadlo-k20_s41_w1_f4-SILVER_ONLY_True_n_246080000_1_PRETRAINED_MODEL_NONE.model.model\n"
     ]
    },
    {
     "name": "stderr",
     "output_type": "stream",
     "text": [
      "100%|██████████| 94/94 [00:05<00:00, 16.34it/s]\n"
     ]
    },
    {
     "name": "stdout",
     "output_type": "stream",
     "text": [
      "gold_train-SILVER_ONLY_True_n_246080_1_PRETRAINED_MODEL_geca-cut_sadlo-k80_s41_w1_f4-SILVER_ONLY_True_n_246080000_3_PRETRAINED_MODEL_NONE.model.model\n"
     ]
    },
    {
     "name": "stderr",
     "output_type": "stream",
     "text": [
      "100%|██████████| 94/94 [00:05<00:00, 16.30it/s]\n"
     ]
    },
    {
     "name": "stdout",
     "output_type": "stream",
     "text": [
      "gold_train-SILVER_ONLY_True_n_246080_1_PRETRAINED_MODEL_geca-cut_embedding3h-k160_s42_w1_f4-SILVER_ONLY_True_n_246080000_2_PRETRAINED_MODEL_NONE.model.model\n"
     ]
    },
    {
     "name": "stderr",
     "output_type": "stream",
     "text": [
      "100%|██████████| 94/94 [00:05<00:00, 16.59it/s]\n"
     ]
    },
    {
     "name": "stdout",
     "output_type": "stream",
     "text": [
      "gold_train-SILVER_ONLY_True_n_246080_1_PRETRAINED_MODEL_geca-cut_sadlo-k160_s41_w1_f4-SILVER_ONLY_True_n_246080000_1_PRETRAINED_MODEL_NONE.model.model\n"
     ]
    },
    {
     "name": "stderr",
     "output_type": "stream",
     "text": [
      "100%|██████████| 94/94 [00:05<00:00, 16.67it/s]\n"
     ]
    },
    {
     "name": "stdout",
     "output_type": "stream",
     "text": [
      "gold_train-SILVER_ONLY_True_n_246080_1_PRETRAINED_MODEL_geca-cut_sadlo-k80_s41_w1_f4-SILVER_ONLY_True_n_246080000_1_PRETRAINED_MODEL_NONE.model.model\n"
     ]
    },
    {
     "name": "stderr",
     "output_type": "stream",
     "text": [
      "100%|██████████| 94/94 [00:05<00:00, 16.97it/s]\n"
     ]
    },
    {
     "name": "stdout",
     "output_type": "stream",
     "text": [
      "gold_train-SILVER_ONLY_True_n_246080_1_PRETRAINED_MODEL_geca-cut_embedding3h-k40_s42_w1_f4-SILVER_ONLY_True_n_246080000_2_PRETRAINED_MODEL_NONE.model.model\n"
     ]
    },
    {
     "name": "stderr",
     "output_type": "stream",
     "text": [
      "100%|██████████| 94/94 [00:05<00:00, 18.54it/s]\n"
     ]
    },
    {
     "name": "stdout",
     "output_type": "stream",
     "text": [
      "gold_train-SILVER_ONLY_True_n_246080_1_PRETRAINED_MODEL_geca-cut_embedding3h-k10_s42_w1_f4-SILVER_ONLY_True_n_246080000_3_PRETRAINED_MODEL_NONE.model.model\n"
     ]
    },
    {
     "name": "stderr",
     "output_type": "stream",
     "text": [
      "100%|██████████| 94/94 [00:05<00:00, 16.90it/s]\n"
     ]
    },
    {
     "name": "stdout",
     "output_type": "stream",
     "text": [
      "gold_train-SILVER_ONLY_True_n_246080_1_PRETRAINED_MODEL_geca-cut_sadlo-k160_s41_w1_f4-SILVER_ONLY_True_n_246080000_2_PRETRAINED_MODEL_NONE.model.model\n"
     ]
    },
    {
     "name": "stderr",
     "output_type": "stream",
     "text": [
      "100%|██████████| 94/94 [00:05<00:00, 17.04it/s]\n"
     ]
    },
    {
     "name": "stdout",
     "output_type": "stream",
     "text": [
      "gold_train-SILVER_ONLY_True_n_246080_1_PRETRAINED_MODEL_geca-cut_embedding3h-k20_s42_w1_f4-SILVER_ONLY_True_n_246080000_3_PRETRAINED_MODEL_NONE.model.model\n"
     ]
    },
    {
     "name": "stderr",
     "output_type": "stream",
     "text": [
      "100%|██████████| 94/94 [00:05<00:00, 16.63it/s]\n"
     ]
    },
    {
     "name": "stdout",
     "output_type": "stream",
     "text": [
      "gold_train-SILVER_ONLY_True_n_246080_1_PRETRAINED_MODEL_geca-cut_sadlo-k40_s42_w1_f4-SILVER_ONLY_True_n_246080000_2_PRETRAINED_MODEL_NONE.model.model\n"
     ]
    },
    {
     "name": "stderr",
     "output_type": "stream",
     "text": [
      "100%|██████████| 94/94 [00:05<00:00, 18.44it/s]\n"
     ]
    },
    {
     "name": "stdout",
     "output_type": "stream",
     "text": [
      "gold_train-SILVER_ONLY_True_n_246080_1_PRETRAINED_MODEL_geca-cut_embedding3h-k10_s42_w1_f4-SILVER_ONLY_True_n_246080000_1_PRETRAINED_MODEL_NONE.model.model\n"
     ]
    },
    {
     "name": "stderr",
     "output_type": "stream",
     "text": [
      "100%|██████████| 94/94 [00:05<00:00, 16.89it/s]\n"
     ]
    },
    {
     "name": "stdout",
     "output_type": "stream",
     "text": [
      "gold_train-SILVER_ONLY_True_n_246080_1_PRETRAINED_MODEL_gold_train-SILVER_ONLY_True_n_246080000_1_PRETRAINED_MODEL_NONE.model.model\n"
     ]
    },
    {
     "name": "stderr",
     "output_type": "stream",
     "text": [
      "100%|██████████| 94/94 [00:05<00:00, 16.98it/s]\n"
     ]
    },
    {
     "name": "stdout",
     "output_type": "stream",
     "text": [
      "gold_train-SILVER_ONLY_True_n_246080_1_PRETRAINED_MODEL_geca-cut_sadlo-k20_s42_w1_f4-SILVER_ONLY_True_n_246080000_1_PRETRAINED_MODEL_NONE.model.model\n"
     ]
    },
    {
     "name": "stderr",
     "output_type": "stream",
     "text": [
      "100%|██████████| 94/94 [00:05<00:00, 16.98it/s]\n"
     ]
    },
    {
     "name": "stdout",
     "output_type": "stream",
     "text": [
      "gold_train-SILVER_ONLY_True_n_246080_1_PRETRAINED_MODEL_cutmix-s41-SILVER_ONLY_True_n_246080000_2_PRETRAINED_MODEL_NONE.model.model\n"
     ]
    },
    {
     "name": "stderr",
     "output_type": "stream",
     "text": [
      "100%|██████████| 94/94 [00:05<00:00, 18.39it/s]\n"
     ]
    },
    {
     "name": "stdout",
     "output_type": "stream",
     "text": [
      "gold_train-SILVER_ONLY_True_n_246080_1_PRETRAINED_MODEL_cutmix-s43-SILVER_ONLY_True_n_246080000_1_PRETRAINED_MODEL_NONE.model.model\n"
     ]
    },
    {
     "name": "stderr",
     "output_type": "stream",
     "text": [
      "100%|██████████| 94/94 [00:05<00:00, 16.72it/s]\n"
     ]
    },
    {
     "name": "stdout",
     "output_type": "stream",
     "text": [
      "gold_train-SILVER_ONLY_True_n_246080_1_PRETRAINED_MODEL_geca-cut_sadlo-k160_s42_w1_f4-SILVER_ONLY_True_n_246080000_1_PRETRAINED_MODEL_NONE.model.model\n"
     ]
    },
    {
     "name": "stderr",
     "output_type": "stream",
     "text": [
      "100%|██████████| 94/94 [00:05<00:00, 16.73it/s]\n"
     ]
    },
    {
     "name": "stdout",
     "output_type": "stream",
     "text": [
      "gold_train-SILVER_ONLY_True_n_246080_1_PRETRAINED_MODEL_geca-cut_sadlo-k160_s43_w1_f4-SILVER_ONLY_True_n_246080000_1_PRETRAINED_MODEL_NONE.model.model\n"
     ]
    },
    {
     "name": "stderr",
     "output_type": "stream",
     "text": [
      "100%|██████████| 94/94 [00:05<00:00, 16.64it/s]\n"
     ]
    },
    {
     "name": "stdout",
     "output_type": "stream",
     "text": [
      "gold_train-SILVER_ONLY_True_n_246080_1_PRETRAINED_MODEL_geca-cut_sadlo-k20_s43_w1_f4-SILVER_ONLY_True_n_246080000_1_PRETRAINED_MODEL_NONE.model.model\n"
     ]
    },
    {
     "name": "stderr",
     "output_type": "stream",
     "text": [
      "100%|██████████| 94/94 [00:05<00:00, 16.45it/s]\n"
     ]
    },
    {
     "name": "stdout",
     "output_type": "stream",
     "text": [
      "gold_train-SILVER_ONLY_True_n_246080_1_PRETRAINED_MODEL_geca-cut_sadlo-k10_s42_w1_f4-SILVER_ONLY_True_n_246080000_1_PRETRAINED_MODEL_NONE.model.model\n"
     ]
    },
    {
     "name": "stderr",
     "output_type": "stream",
     "text": [
      "100%|██████████| 94/94 [00:05<00:00, 16.85it/s]\n"
     ]
    },
    {
     "name": "stdout",
     "output_type": "stream",
     "text": [
      "gold_train-SILVER_ONLY_True_n_246080_1_PRETRAINED_MODEL_geca-cut_sadlo-k160_s43_w1_f4-SILVER_ONLY_True_n_246080000_2_PRETRAINED_MODEL_NONE.model.model\n"
     ]
    },
    {
     "name": "stderr",
     "output_type": "stream",
     "text": [
      "100%|██████████| 94/94 [00:05<00:00, 17.09it/s]\n"
     ]
    },
    {
     "name": "stdout",
     "output_type": "stream",
     "text": [
      "gold_train-SILVER_ONLY_True_n_246080_1_PRETRAINED_MODEL_geca-cut_sadlo-k10_s41_w1_f4-SILVER_ONLY_True_n_246080000_2_PRETRAINED_MODEL_NONE.model.model\n"
     ]
    },
    {
     "name": "stderr",
     "output_type": "stream",
     "text": [
      "100%|██████████| 94/94 [00:05<00:00, 16.11it/s]\n"
     ]
    },
    {
     "name": "stdout",
     "output_type": "stream",
     "text": [
      "gold_train-SILVER_ONLY_True_n_246080_1_PRETRAINED_MODEL_geca-cut_sadlo-k160_s41_w1_f4-SILVER_ONLY_True_n_246080000_3_PRETRAINED_MODEL_NONE.model.model\n"
     ]
    },
    {
     "name": "stderr",
     "output_type": "stream",
     "text": [
      "100%|██████████| 94/94 [00:05<00:00, 17.02it/s]\n"
     ]
    },
    {
     "name": "stdout",
     "output_type": "stream",
     "text": [
      "gold_train-SILVER_ONLY_True_n_246080_1_PRETRAINED_MODEL_geca-cut_sadlo-k10_s43_w1_f4-SILVER_ONLY_True_n_246080000_1_PRETRAINED_MODEL_NONE.model.model\n"
     ]
    },
    {
     "name": "stderr",
     "output_type": "stream",
     "text": [
      "100%|██████████| 94/94 [00:05<00:00, 16.94it/s]\n"
     ]
    },
    {
     "name": "stdout",
     "output_type": "stream",
     "text": [
      "gold_train-SILVER_ONLY_True_n_246080_1_PRETRAINED_MODEL_geca-cut_sadlo-k40_s41_w1_f4-SILVER_ONLY_True_n_246080000_3_PRETRAINED_MODEL_NONE.model.model\n"
     ]
    },
    {
     "name": "stderr",
     "output_type": "stream",
     "text": [
      "100%|██████████| 94/94 [00:05<00:00, 16.87it/s]\n"
     ]
    },
    {
     "name": "stdout",
     "output_type": "stream",
     "text": [
      "gold_train-SILVER_ONLY_True_n_246080_1_PRETRAINED_MODEL_geca-cut_sadlo-k20_s41_w1_f4-SILVER_ONLY_True_n_246080000_3_PRETRAINED_MODEL_NONE.model.model\n"
     ]
    },
    {
     "name": "stderr",
     "output_type": "stream",
     "text": [
      "100%|██████████| 94/94 [00:05<00:00, 18.03it/s]\n"
     ]
    },
    {
     "name": "stdout",
     "output_type": "stream",
     "text": [
      "gold_train-SILVER_ONLY_True_n_246080_1_PRETRAINED_MODEL_geca-cut_embedding3h-k20_s42_w1_f4-SILVER_ONLY_True_n_246080000_1_PRETRAINED_MODEL_NONE.model.model\n"
     ]
    },
    {
     "name": "stderr",
     "output_type": "stream",
     "text": [
      "100%|██████████| 94/94 [00:05<00:00, 17.19it/s]\n"
     ]
    },
    {
     "name": "stdout",
     "output_type": "stream",
     "text": [
      "gold_train-SILVER_ONLY_True_n_246080_1_PRETRAINED_MODEL_cutmix-s42-SILVER_ONLY_True_n_246080000_3_PRETRAINED_MODEL_NONE.model.model\n"
     ]
    },
    {
     "name": "stderr",
     "output_type": "stream",
     "text": [
      "100%|██████████| 94/94 [00:05<00:00, 16.92it/s]\n"
     ]
    },
    {
     "name": "stdout",
     "output_type": "stream",
     "text": [
      "gold_train-SILVER_ONLY_True_n_246080_1_PRETRAINED_MODEL_cutmix-s43-SILVER_ONLY_True_n_246080000_3_PRETRAINED_MODEL_NONE.model.model\n"
     ]
    },
    {
     "name": "stderr",
     "output_type": "stream",
     "text": [
      "100%|██████████| 94/94 [00:05<00:00, 18.48it/s]\n"
     ]
    },
    {
     "name": "stdout",
     "output_type": "stream",
     "text": [
      "gold_train-SILVER_ONLY_True_n_246080_1_PRETRAINED_MODEL_geca-cut_embedding3h-k160_s42_w1_f4-SILVER_ONLY_True_n_246080000_3_PRETRAINED_MODEL_NONE.model.model\n"
     ]
    },
    {
     "name": "stderr",
     "output_type": "stream",
     "text": [
      "100%|██████████| 94/94 [00:05<00:00, 17.32it/s]\n"
     ]
    },
    {
     "name": "stdout",
     "output_type": "stream",
     "text": [
      "gold_train-SILVER_ONLY_True_n_246080_1_PRETRAINED_MODEL_geca-cut_sadlo-k20_s43_w1_f4-SILVER_ONLY_True_n_246080000_2_PRETRAINED_MODEL_NONE.model.model\n"
     ]
    },
    {
     "name": "stderr",
     "output_type": "stream",
     "text": [
      "100%|██████████| 94/94 [00:05<00:00, 18.19it/s]\n"
     ]
    },
    {
     "name": "stdout",
     "output_type": "stream",
     "text": [
      "gold_train-SILVER_ONLY_True_n_246080_1_PRETRAINED_MODEL_geca-cut_sadlo-k80_s43_w1_f4-SILVER_ONLY_True_n_246080000_2_PRETRAINED_MODEL_NONE.model.model\n"
     ]
    },
    {
     "name": "stderr",
     "output_type": "stream",
     "text": [
      "100%|██████████| 94/94 [00:05<00:00, 17.18it/s]\n"
     ]
    },
    {
     "name": "stdout",
     "output_type": "stream",
     "text": [
      "gold_train-SILVER_ONLY_True_n_246080_1_PRETRAINED_MODEL_geca-cut_sadlo-k80_s43_w1_f4-SILVER_ONLY_True_n_246080000_3_PRETRAINED_MODEL_NONE.model.model\n"
     ]
    },
    {
     "name": "stderr",
     "output_type": "stream",
     "text": [
      "100%|██████████| 94/94 [00:05<00:00, 16.85it/s]\n"
     ]
    },
    {
     "name": "stdout",
     "output_type": "stream",
     "text": [
      "gold_train-SILVER_ONLY_True_n_246080_1_PRETRAINED_MODEL_geca-cut_sadlo-k40_s41_w1_f4-SILVER_ONLY_True_n_246080000_1_PRETRAINED_MODEL_NONE.model.model\n"
     ]
    },
    {
     "name": "stderr",
     "output_type": "stream",
     "text": [
      "100%|██████████| 94/94 [00:05<00:00, 18.28it/s]\n"
     ]
    },
    {
     "name": "stdout",
     "output_type": "stream",
     "text": [
      "gold_train-SILVER_ONLY_True_n_246080_1_PRETRAINED_MODEL_cutmix-s41-SILVER_ONLY_True_n_246080000_3_PRETRAINED_MODEL_NONE.model.model\n"
     ]
    },
    {
     "name": "stderr",
     "output_type": "stream",
     "text": [
      "100%|██████████| 94/94 [00:05<00:00, 17.14it/s]\n"
     ]
    },
    {
     "name": "stdout",
     "output_type": "stream",
     "text": [
      "gold_train-SILVER_ONLY_True_n_246080_1_PRETRAINED_MODEL_cutmix-s43-SILVER_ONLY_True_n_246080000_2_PRETRAINED_MODEL_NONE.model.model\n"
     ]
    },
    {
     "name": "stderr",
     "output_type": "stream",
     "text": [
      "100%|██████████| 94/94 [00:05<00:00, 16.93it/s]\n"
     ]
    },
    {
     "name": "stdout",
     "output_type": "stream",
     "text": [
      "gold_train-SILVER_ONLY_True_n_246080_1_PRETRAINED_MODEL_cutmix-s42-SILVER_ONLY_True_n_246080000_1_PRETRAINED_MODEL_NONE.model.model\n"
     ]
    },
    {
     "name": "stderr",
     "output_type": "stream",
     "text": [
      "100%|██████████| 94/94 [00:05<00:00, 16.86it/s]\n"
     ]
    },
    {
     "name": "stdout",
     "output_type": "stream",
     "text": [
      "gold_train-SILVER_ONLY_True_n_246080_1_PRETRAINED_MODEL_geca-cut_embedding3h-k80_s42_w1_f4-SILVER_ONLY_True_n_246080000_1_PRETRAINED_MODEL_NONE.model.model\n"
     ]
    },
    {
     "name": "stderr",
     "output_type": "stream",
     "text": [
      "100%|██████████| 94/94 [00:05<00:00, 17.02it/s]\n"
     ]
    },
    {
     "name": "stdout",
     "output_type": "stream",
     "text": [
      "gold_train-SILVER_ONLY_True_n_246080_1_PRETRAINED_MODEL_geca-cut_sadlo-k80_s42_w1_f4-SILVER_ONLY_True_n_246080000_2_PRETRAINED_MODEL_NONE.model.model\n"
     ]
    },
    {
     "name": "stderr",
     "output_type": "stream",
     "text": [
      "100%|██████████| 94/94 [00:05<00:00, 17.59it/s]\n"
     ]
    },
    {
     "name": "stdout",
     "output_type": "stream",
     "text": [
      "gold_train-SILVER_ONLY_True_n_246080_1_PRETRAINED_MODEL_geca-cut_sadlo-k40_s43_w1_f4-SILVER_ONLY_True_n_246080000_3_PRETRAINED_MODEL_NONE.model.model\n"
     ]
    },
    {
     "name": "stderr",
     "output_type": "stream",
     "text": [
      "100%|██████████| 94/94 [00:05<00:00, 16.86it/s]\n"
     ]
    },
    {
     "name": "stdout",
     "output_type": "stream",
     "text": [
      "gold_train-SILVER_ONLY_True_n_246080_1_PRETRAINED_MODEL_geca-cut_sadlo-k10_s41_w1_f4-SILVER_ONLY_True_n_246080000_1_PRETRAINED_MODEL_NONE.model.model\n"
     ]
    },
    {
     "name": "stderr",
     "output_type": "stream",
     "text": [
      "100%|██████████| 94/94 [00:05<00:00, 16.63it/s]\n"
     ]
    }
   ],
   "source": [
    "import os\n",
    "import models.InformerAutoregressiveFull as autoformer\n",
    "importlib.reload(autoformer)\n",
    "batch_size, lr, patience = 32, 0.0005, 6  # batch_size increased, patience 10 --> 6\n",
    "d, N, he, dropout = 50, 2, 4, 0.2\n",
    "model = autoformer.Model(args).cuda()\n",
    "# Load pretrained weights here.\n",
    "optimizer = torch.optim.Adam(model.parameters(), lr=lr)\n",
    "scheduler = ReduceLROnPlateau(optimizer, 'max', patience=3)\n",
    "for model_path in os.listdir(\"eicu_full_fixed_finetune_higher/\"):\n",
    "    #if not (model_path.endswith(\"1.model\") or model_path.endswith(\"2.model\")): continue\n",
    "    #if not (\"k80\" in model_path or \"k160\" in model_path) or not(model_path.endswith(\"1.model\")): continue\n",
    "    if not (model_path.endswith(\".model\")): continue\n",
    "    print(model_path)\n",
    "    model.load_state_dict(torch.load(\"eicu_full_fixed_finetune_higher/\"+model_path))\n",
    "    model.eval()\n",
    "    y_true, y_pred = [], []\n",
    "    #print(test_input)\n",
    "    pbar = tqdm(range(0, len(test_input), batch_size))\n",
    "    loss_list = []\n",
    "    test_loss = 0\n",
    "    test_loss_part1 = 0\n",
    "    test_loss_part2 = 0\n",
    "    sofa_losses = []\n",
    "    test_loss_sofa_variables = 0\n",
    "    accuracy_list = []\n",
    "    TP, TN, FP, FN = 0, 0, 0, 0\n",
    "    test_loss_sum_square_total = 0\n",
    "    test_loss_part1_sum_square_total = 0\n",
    "    test_loss_part2_sum_square_total = 0\n",
    "    test_loss_sofa_sum_square_total = 0\n",
    "    for start in pbar:\n",
    "        #print(start)\n",
    "        matrix = torch.tensor(test_input[start:start+batch_size], dtype=torch.float32).cuda()\n",
    "        input_matrix = matrix[:, :24]\n",
    "\n",
    "        #torch.Size([32, 24, 129])\n",
    "        input_mark = torch.arange(0, input_matrix.size(1)).unsqueeze(0).repeat(input_matrix.size(0), 1).cuda()\n",
    "        #torch.Size([32, 24])\n",
    "        input_mask = input_matrix[:, :24, V:]\n",
    "        output_matrix = matrix[:, 24:, :V]\n",
    "        #torch.Size([32, 24, 129])\n",
    "        output_mark = torch.arange(0, output_matrix.size(1)).unsqueeze(0).repeat(input_matrix.size(0), 1).cuda()\n",
    "        #torch.Size([32, 24])\n",
    "        output_mask = matrix[:, 24:, V:]\n",
    "        #torch.Size([32, 24, 129])\n",
    "        output_mark = torch.arange(0, output_matrix.size(1)).unsqueeze(0).repeat(input_matrix.size(0), 1).cuda()\n",
    "        dec_inp = torch.zeros_like(output_matrix[:, -args.pred_len:, :]).float()\n",
    "        with torch.no_grad():\n",
    "            output = model(input_matrix, input_mark, dec_inp, output_mark, trainn=False)\n",
    "            loss = output_mask[:, -args.pred_len:, :]*(\n",
    "            output-output_matrix[:, -args.pred_len:, :])**2\n",
    "        loss_list.extend(loss.sum(axis=-1).mean(axis=-1).detach().cpu().tolist())\n",
    "        loss_old = loss\n",
    "        test_loss_sum_square_total += torch.sum(loss_old.sum(axis=-1).mean(axis=-1)**2)\n",
    "        loss = loss.sum(axis=-1).mean(axis=-1).sum()\n",
    "        loss_part1 = loss_old[:, :8].sum(axis=-1).mean()\n",
    "        loss_part2 = loss_old[:, 8:].sum(axis=-1).mean()\n",
    "        test_loss+=loss\n",
    "        test_loss_part1+=loss_part1\n",
    "        test_loss_part2+=loss_part2\n",
    "\n",
    "        test_loss_part1_sum_square_total += torch.sum(loss_old[:, :8].sum(axis=-1).mean(axis=-1)**2)\n",
    "        test_loss_part2_sum_square_total += torch.sum(loss_old[:, 8:].sum(axis=-1).mean(axis=-1)**2)\n",
    "    test_loss_p = test_loss/len(test_input)\n",
    "    se_loss_p = torch.sqrt(test_loss_sum_square_total / len(test_input) - test_loss_p**2)/len(test_input)\n",
    "    test_loss_part1_p = test_loss_part1*batch_size/len(test_input)\n",
    "    test_loss_part2_p = test_loss_part2*batch_size/len(test_input)\n",
    "\n",
    "\n",
    "    model_name = model_path+'&'\n",
    "    MSE_string = \"{:.3f}\".format(test_loss_p.item()) + \"$_{[\" + \"{:.3f}\".format(test_loss_p.item()-1.96*se_loss_p.item()) +','+ \"{:.3f}\".format(test_loss_p.item()+1.96*se_loss_p.item()) + ']}$&'\n",
    "    print(model_name,MSE_string, sep='',file=open('eicu_full_fixed_finetune_higher_other_test.txt','a'))"
   ]
  },
  {
   "cell_type": "code",
   "execution_count": 8,
   "id": "87686c77",
   "metadata": {},
   "outputs": [
    {
     "name": "stdout",
     "output_type": "stream",
     "text": [
      "gold_train-SILVER_ONLY_True_n_246080_1_PRETRAINED_MODEL_geca-cut_sadlo-k10_s41_w1_f4-SILVER_ONLY_True_n_246080000_3_PRETRAINED_MODEL_NONE.model.model\n"
     ]
    },
    {
     "name": "stderr",
     "output_type": "stream",
     "text": [
      "100%|██████████| 94/94 [00:05<00:00, 16.32it/s]\n"
     ]
    },
    {
     "name": "stdout",
     "output_type": "stream",
     "text": [
      "gold_train-SILVER_ONLY_True_n_246080_1_PRETRAINED_MODEL_geca-cut_sadlo-k40_s43_w1_f4-SILVER_ONLY_True_n_246080000_2_PRETRAINED_MODEL_NONE.model.model\n"
     ]
    },
    {
     "name": "stderr",
     "output_type": "stream",
     "text": [
      "100%|██████████| 94/94 [00:05<00:00, 16.50it/s]\n"
     ]
    },
    {
     "name": "stdout",
     "output_type": "stream",
     "text": [
      "gold_train-SILVER_ONLY_True_n_246080_1_PRETRAINED_MODEL_geca-cut_sadlo-k160_s43_w1_f4-SILVER_ONLY_True_n_246080000_3_PRETRAINED_MODEL_NONE.model.model\n"
     ]
    },
    {
     "name": "stderr",
     "output_type": "stream",
     "text": [
      "100%|██████████| 94/94 [00:05<00:00, 16.84it/s]\n"
     ]
    },
    {
     "name": "stdout",
     "output_type": "stream",
     "text": [
      "gold_train-SILVER_ONLY_True_n_246080_1_PRETRAINED_MODEL_geca-cut_sadlo-k160_s42_w1_f4-SILVER_ONLY_True_n_246080000_2_PRETRAINED_MODEL_NONE.model.model\n"
     ]
    },
    {
     "name": "stderr",
     "output_type": "stream",
     "text": [
      "100%|██████████| 94/94 [00:05<00:00, 17.15it/s]\n"
     ]
    },
    {
     "name": "stdout",
     "output_type": "stream",
     "text": [
      "gold_train-SILVER_ONLY_True_n_246080_1_PRETRAINED_MODEL_geca-cut_sadlo-k10_s43_w1_f4-SILVER_ONLY_True_n_246080000_2_PRETRAINED_MODEL_NONE.model.model\n"
     ]
    },
    {
     "name": "stderr",
     "output_type": "stream",
     "text": [
      "100%|██████████| 94/94 [00:05<00:00, 18.49it/s]\n"
     ]
    },
    {
     "name": "stdout",
     "output_type": "stream",
     "text": [
      "gold_train-SILVER_ONLY_True_n_246080_1_PRETRAINED_MODEL_geca-cut_sadlo-k80_s42_w1_f4-SILVER_ONLY_True_n_246080000_3_PRETRAINED_MODEL_NONE.model.model\n"
     ]
    },
    {
     "name": "stderr",
     "output_type": "stream",
     "text": [
      "100%|██████████| 94/94 [00:05<00:00, 16.97it/s]\n"
     ]
    },
    {
     "name": "stdout",
     "output_type": "stream",
     "text": [
      "gold_train-SILVER_ONLY_True_n_246080_1_PRETRAINED_MODEL_geca-cut_embedding3h-k20_s42_w1_f4-SILVER_ONLY_True_n_246080000_2_PRETRAINED_MODEL_NONE.model.model\n"
     ]
    },
    {
     "name": "stderr",
     "output_type": "stream",
     "text": [
      "100%|██████████| 94/94 [00:05<00:00, 17.40it/s]\n"
     ]
    },
    {
     "name": "stdout",
     "output_type": "stream",
     "text": [
      "gold_train-SILVER_ONLY_True_n_246080_1_PRETRAINED_MODEL_geca-cut_sadlo-k20_s42_w1_f4-SILVER_ONLY_True_n_246080000_3_PRETRAINED_MODEL_NONE.model.model\n"
     ]
    },
    {
     "name": "stderr",
     "output_type": "stream",
     "text": [
      "100%|██████████| 94/94 [00:05<00:00, 16.94it/s]\n"
     ]
    },
    {
     "name": "stdout",
     "output_type": "stream",
     "text": [
      "gold_train-SILVER_ONLY_True_n_246080_1_PRETRAINED_MODEL_geca-cut_sadlo-k20_s43_w1_f4-SILVER_ONLY_True_n_246080000_3_PRETRAINED_MODEL_NONE.model.model\n"
     ]
    },
    {
     "name": "stderr",
     "output_type": "stream",
     "text": [
      "100%|██████████| 94/94 [00:05<00:00, 18.43it/s]\n"
     ]
    },
    {
     "name": "stdout",
     "output_type": "stream",
     "text": [
      "gold_train-SILVER_ONLY_True_n_246080_1_PRETRAINED_MODEL_cutmix-s41-SILVER_ONLY_True_n_246080000_1_PRETRAINED_MODEL_NONE.model.model\n"
     ]
    },
    {
     "name": "stderr",
     "output_type": "stream",
     "text": [
      "100%|██████████| 94/94 [00:05<00:00, 16.85it/s]\n"
     ]
    },
    {
     "name": "stdout",
     "output_type": "stream",
     "text": [
      "gold_train-SILVER_ONLY_True_n_246080_1_PRETRAINED_MODEL_geca-cut_sadlo-k160_s42_w1_f4-SILVER_ONLY_True_n_246080000_3_PRETRAINED_MODEL_NONE.model.model\n"
     ]
    },
    {
     "name": "stderr",
     "output_type": "stream",
     "text": [
      "100%|██████████| 94/94 [00:05<00:00, 16.89it/s]\n"
     ]
    },
    {
     "name": "stdout",
     "output_type": "stream",
     "text": [
      "gold_train-SILVER_ONLY_True_n_246080_1_PRETRAINED_MODEL_geca-cut_sadlo-k40_s42_w1_f4-SILVER_ONLY_True_n_246080000_3_PRETRAINED_MODEL_NONE.model.model\n"
     ]
    },
    {
     "name": "stderr",
     "output_type": "stream",
     "text": [
      "100%|██████████| 94/94 [00:05<00:00, 17.10it/s]\n"
     ]
    },
    {
     "name": "stdout",
     "output_type": "stream",
     "text": [
      "gold_train-SILVER_ONLY_True_n_246080_1_PRETRAINED_MODEL_geca-cut_sadlo-k10_s42_w1_f4-SILVER_ONLY_True_n_246080000_3_PRETRAINED_MODEL_NONE.model.model\n"
     ]
    },
    {
     "name": "stderr",
     "output_type": "stream",
     "text": [
      "100%|██████████| 94/94 [00:05<00:00, 17.86it/s]\n"
     ]
    },
    {
     "name": "stdout",
     "output_type": "stream",
     "text": [
      "gold_train-SILVER_ONLY_True_n_246080_1_PRETRAINED_MODEL_cutmix-s42-SILVER_ONLY_True_n_246080000_2_PRETRAINED_MODEL_NONE.model.model\n"
     ]
    },
    {
     "name": "stderr",
     "output_type": "stream",
     "text": [
      "100%|██████████| 94/94 [00:05<00:00, 16.98it/s]\n"
     ]
    },
    {
     "name": "stdout",
     "output_type": "stream",
     "text": [
      "gold_train-SILVER_ONLY_True_n_246080_1_PRETRAINED_MODEL_geca-cut_embedding3h-k80_s42_w1_f4-SILVER_ONLY_True_n_246080000_3_PRETRAINED_MODEL_NONE.model.model\n"
     ]
    },
    {
     "name": "stderr",
     "output_type": "stream",
     "text": [
      "100%|██████████| 94/94 [00:05<00:00, 16.75it/s]\n"
     ]
    },
    {
     "name": "stdout",
     "output_type": "stream",
     "text": [
      "gold_train-SILVER_ONLY_True_n_246080_1_PRETRAINED_MODEL_geca-cut_sadlo-k40_s41_w1_f4-SILVER_ONLY_True_n_246080000_2_PRETRAINED_MODEL_NONE.model.model\n"
     ]
    },
    {
     "name": "stderr",
     "output_type": "stream",
     "text": [
      "100%|██████████| 94/94 [00:05<00:00, 17.09it/s]\n"
     ]
    },
    {
     "name": "stdout",
     "output_type": "stream",
     "text": [
      "gold_train-SILVER_ONLY_True_n_246080_1_PRETRAINED_MODEL_geca-cut_sadlo-k20_s41_w1_f4-SILVER_ONLY_True_n_246080000_2_PRETRAINED_MODEL_NONE.model.model\n"
     ]
    },
    {
     "name": "stderr",
     "output_type": "stream",
     "text": [
      "100%|██████████| 94/94 [00:05<00:00, 16.95it/s]\n"
     ]
    },
    {
     "name": "stdout",
     "output_type": "stream",
     "text": [
      "gold_train-SILVER_ONLY_True_n_246080_1_PRETRAINED_MODEL_geca-cut_sadlo-k10_s43_w1_f4-SILVER_ONLY_True_n_246080000_3_PRETRAINED_MODEL_NONE.model.model\n"
     ]
    },
    {
     "name": "stderr",
     "output_type": "stream",
     "text": [
      "100%|██████████| 94/94 [00:05<00:00, 16.83it/s]\n"
     ]
    },
    {
     "name": "stdout",
     "output_type": "stream",
     "text": [
      "gold_train-SILVER_ONLY_True_n_246080_1_PRETRAINED_MODEL_gold_train-SILVER_ONLY_True_n_246080000_3_PRETRAINED_MODEL_NONE.model.model\n"
     ]
    },
    {
     "name": "stderr",
     "output_type": "stream",
     "text": [
      "100%|██████████| 94/94 [00:05<00:00, 16.80it/s]\n"
     ]
    },
    {
     "name": "stdout",
     "output_type": "stream",
     "text": [
      "gold_train-SILVER_ONLY_True_n_246080_1_PRETRAINED_MODEL_geca-cut_embedding3h-k40_s42_w1_f4-SILVER_ONLY_True_n_246080000_3_PRETRAINED_MODEL_NONE.model.model\n"
     ]
    },
    {
     "name": "stderr",
     "output_type": "stream",
     "text": [
      "100%|██████████| 94/94 [00:05<00:00, 17.37it/s]\n"
     ]
    },
    {
     "name": "stdout",
     "output_type": "stream",
     "text": [
      "gold_train-SILVER_ONLY_True_n_246080_1_PRETRAINED_MODEL_geca-cut_sadlo-k40_s43_w1_f4-SILVER_ONLY_True_n_246080000_1_PRETRAINED_MODEL_NONE.model.model\n"
     ]
    },
    {
     "name": "stderr",
     "output_type": "stream",
     "text": [
      "100%|██████████| 94/94 [00:05<00:00, 16.71it/s]\n"
     ]
    },
    {
     "name": "stdout",
     "output_type": "stream",
     "text": [
      "gold_train-SILVER_ONLY_True_n_246080_1_PRETRAINED_MODEL_geca-cut_sadlo-k80_s43_w1_f4-SILVER_ONLY_True_n_246080000_1_PRETRAINED_MODEL_NONE.model.model\n"
     ]
    },
    {
     "name": "stderr",
     "output_type": "stream",
     "text": [
      "100%|██████████| 94/94 [00:05<00:00, 18.64it/s]\n"
     ]
    },
    {
     "name": "stdout",
     "output_type": "stream",
     "text": [
      "gold_train-SILVER_ONLY_True_n_246080_1_PRETRAINED_MODEL_geca-cut_sadlo-k20_s42_w1_f4-SILVER_ONLY_True_n_246080000_2_PRETRAINED_MODEL_NONE.model.model\n"
     ]
    },
    {
     "name": "stderr",
     "output_type": "stream",
     "text": [
      "100%|██████████| 94/94 [00:05<00:00, 16.89it/s]\n"
     ]
    },
    {
     "name": "stdout",
     "output_type": "stream",
     "text": [
      "gold_train-SILVER_ONLY_True_n_246080_1_PRETRAINED_MODEL_geca-cut_embedding3h-k160_s42_w1_f4-SILVER_ONLY_True_n_246080000_1_PRETRAINED_MODEL_NONE.model.model\n"
     ]
    },
    {
     "name": "stderr",
     "output_type": "stream",
     "text": [
      "100%|██████████| 94/94 [00:05<00:00, 17.08it/s]\n"
     ]
    },
    {
     "name": "stdout",
     "output_type": "stream",
     "text": [
      "gold_train-SILVER_ONLY_True_n_246080_1_PRETRAINED_MODEL_geca-cut_embedding3h-k80_s42_w1_f4-SILVER_ONLY_True_n_246080000_2_PRETRAINED_MODEL_NONE.model.model\n"
     ]
    },
    {
     "name": "stderr",
     "output_type": "stream",
     "text": [
      "100%|██████████| 94/94 [00:05<00:00, 17.04it/s]\n"
     ]
    },
    {
     "name": "stdout",
     "output_type": "stream",
     "text": [
      "gold_train-SILVER_ONLY_True_n_246080_1_PRETRAINED_MODEL_geca-cut_sadlo-k40_s42_w1_f4-SILVER_ONLY_True_n_246080000_1_PRETRAINED_MODEL_NONE.model.model\n"
     ]
    },
    {
     "name": "stderr",
     "output_type": "stream",
     "text": [
      "100%|██████████| 94/94 [00:05<00:00, 16.92it/s]\n"
     ]
    },
    {
     "name": "stdout",
     "output_type": "stream",
     "text": [
      "gold_train-SILVER_ONLY_True_n_246080_1_PRETRAINED_MODEL_geca-cut_sadlo-k10_s42_w1_f4-SILVER_ONLY_True_n_246080000_2_PRETRAINED_MODEL_NONE.model.model\n"
     ]
    },
    {
     "name": "stderr",
     "output_type": "stream",
     "text": [
      "100%|██████████| 94/94 [00:05<00:00, 16.97it/s]\n"
     ]
    },
    {
     "name": "stdout",
     "output_type": "stream",
     "text": [
      "gold_train-SILVER_ONLY_True_n_246080_1_PRETRAINED_MODEL_geca-cut_sadlo-k80_s42_w1_f4-SILVER_ONLY_True_n_246080000_1_PRETRAINED_MODEL_NONE.model.model\n"
     ]
    },
    {
     "name": "stderr",
     "output_type": "stream",
     "text": [
      "100%|██████████| 94/94 [00:05<00:00, 16.59it/s]\n"
     ]
    },
    {
     "name": "stdout",
     "output_type": "stream",
     "text": [
      "gold_train-SILVER_ONLY_True_n_246080_1_PRETRAINED_MODEL_geca-cut_sadlo-k80_s41_w1_f4-SILVER_ONLY_True_n_246080000_2_PRETRAINED_MODEL_NONE.model.model\n"
     ]
    },
    {
     "name": "stderr",
     "output_type": "stream",
     "text": [
      "100%|██████████| 94/94 [00:05<00:00, 16.26it/s]\n"
     ]
    },
    {
     "name": "stdout",
     "output_type": "stream",
     "text": [
      "gold_train-SILVER_ONLY_True_n_246080_1_PRETRAINED_MODEL_gold_train-SILVER_ONLY_True_n_246080000_2_PRETRAINED_MODEL_NONE.model.model\n"
     ]
    },
    {
     "name": "stderr",
     "output_type": "stream",
     "text": [
      "100%|██████████| 94/94 [00:05<00:00, 17.60it/s]\n"
     ]
    },
    {
     "name": "stdout",
     "output_type": "stream",
     "text": [
      "gold_train-SILVER_ONLY_True_n_246080_1_PRETRAINED_MODEL_geca-cut_embedding3h-k10_s42_w1_f4-SILVER_ONLY_True_n_246080000_2_PRETRAINED_MODEL_NONE.model.model\n"
     ]
    },
    {
     "name": "stderr",
     "output_type": "stream",
     "text": [
      "100%|██████████| 94/94 [00:05<00:00, 16.71it/s]\n"
     ]
    },
    {
     "name": "stdout",
     "output_type": "stream",
     "text": [
      "gold_train-SILVER_ONLY_True_n_246080_1_PRETRAINED_MODEL_geca-cut_embedding3h-k40_s42_w1_f4-SILVER_ONLY_True_n_246080000_1_PRETRAINED_MODEL_NONE.model.model\n"
     ]
    },
    {
     "name": "stderr",
     "output_type": "stream",
     "text": [
      "100%|██████████| 94/94 [00:05<00:00, 16.70it/s]\n"
     ]
    },
    {
     "name": "stdout",
     "output_type": "stream",
     "text": [
      "gold_train-SILVER_ONLY_True_n_246080_1_PRETRAINED_MODEL_geca-cut_sadlo-k20_s41_w1_f4-SILVER_ONLY_True_n_246080000_1_PRETRAINED_MODEL_NONE.model.model\n"
     ]
    },
    {
     "name": "stderr",
     "output_type": "stream",
     "text": [
      "100%|██████████| 94/94 [00:05<00:00, 17.01it/s]\n"
     ]
    },
    {
     "name": "stdout",
     "output_type": "stream",
     "text": [
      "gold_train-SILVER_ONLY_True_n_246080_1_PRETRAINED_MODEL_geca-cut_sadlo-k80_s41_w1_f4-SILVER_ONLY_True_n_246080000_3_PRETRAINED_MODEL_NONE.model.model\n"
     ]
    },
    {
     "name": "stderr",
     "output_type": "stream",
     "text": [
      "100%|██████████| 94/94 [00:05<00:00, 17.16it/s]\n"
     ]
    },
    {
     "name": "stdout",
     "output_type": "stream",
     "text": [
      "gold_train-SILVER_ONLY_True_n_246080_1_PRETRAINED_MODEL_geca-cut_embedding3h-k160_s42_w1_f4-SILVER_ONLY_True_n_246080000_2_PRETRAINED_MODEL_NONE.model.model\n"
     ]
    },
    {
     "name": "stderr",
     "output_type": "stream",
     "text": [
      "100%|██████████| 94/94 [00:05<00:00, 17.61it/s]\n"
     ]
    },
    {
     "name": "stdout",
     "output_type": "stream",
     "text": [
      "gold_train-SILVER_ONLY_True_n_246080_1_PRETRAINED_MODEL_geca-cut_sadlo-k160_s41_w1_f4-SILVER_ONLY_True_n_246080000_1_PRETRAINED_MODEL_NONE.model.model\n"
     ]
    },
    {
     "name": "stderr",
     "output_type": "stream",
     "text": [
      "100%|██████████| 94/94 [00:05<00:00, 16.89it/s]\n"
     ]
    },
    {
     "name": "stdout",
     "output_type": "stream",
     "text": [
      "gold_train-SILVER_ONLY_True_n_246080_1_PRETRAINED_MODEL_geca-cut_sadlo-k80_s41_w1_f4-SILVER_ONLY_True_n_246080000_1_PRETRAINED_MODEL_NONE.model.model\n"
     ]
    },
    {
     "name": "stderr",
     "output_type": "stream",
     "text": [
      "100%|██████████| 94/94 [00:05<00:00, 16.79it/s]\n"
     ]
    },
    {
     "name": "stdout",
     "output_type": "stream",
     "text": [
      "gold_train-SILVER_ONLY_True_n_246080_1_PRETRAINED_MODEL_geca-cut_embedding3h-k40_s42_w1_f4-SILVER_ONLY_True_n_246080000_2_PRETRAINED_MODEL_NONE.model.model\n"
     ]
    },
    {
     "name": "stderr",
     "output_type": "stream",
     "text": [
      "100%|██████████| 94/94 [00:05<00:00, 16.87it/s]\n"
     ]
    },
    {
     "name": "stdout",
     "output_type": "stream",
     "text": [
      "gold_train-SILVER_ONLY_True_n_246080_1_PRETRAINED_MODEL_geca-cut_embedding3h-k10_s42_w1_f4-SILVER_ONLY_True_n_246080000_3_PRETRAINED_MODEL_NONE.model.model\n"
     ]
    },
    {
     "name": "stderr",
     "output_type": "stream",
     "text": [
      "100%|██████████| 94/94 [00:05<00:00, 16.44it/s]\n"
     ]
    },
    {
     "name": "stdout",
     "output_type": "stream",
     "text": [
      "gold_train-SILVER_ONLY_True_n_246080_1_PRETRAINED_MODEL_geca-cut_sadlo-k160_s41_w1_f4-SILVER_ONLY_True_n_246080000_2_PRETRAINED_MODEL_NONE.model.model\n"
     ]
    },
    {
     "name": "stderr",
     "output_type": "stream",
     "text": [
      "100%|██████████| 94/94 [00:05<00:00, 16.36it/s]\n"
     ]
    },
    {
     "name": "stdout",
     "output_type": "stream",
     "text": [
      "gold_train-SILVER_ONLY_True_n_246080_1_PRETRAINED_MODEL_geca-cut_embedding3h-k20_s42_w1_f4-SILVER_ONLY_True_n_246080000_3_PRETRAINED_MODEL_NONE.model.model\n"
     ]
    },
    {
     "name": "stderr",
     "output_type": "stream",
     "text": [
      "100%|██████████| 94/94 [00:05<00:00, 16.85it/s]\n"
     ]
    },
    {
     "name": "stdout",
     "output_type": "stream",
     "text": [
      "gold_train-SILVER_ONLY_True_n_246080_1_PRETRAINED_MODEL_geca-cut_sadlo-k40_s42_w1_f4-SILVER_ONLY_True_n_246080000_2_PRETRAINED_MODEL_NONE.model.model\n"
     ]
    },
    {
     "name": "stderr",
     "output_type": "stream",
     "text": [
      "100%|██████████| 94/94 [00:05<00:00, 16.82it/s]\n"
     ]
    },
    {
     "name": "stdout",
     "output_type": "stream",
     "text": [
      "gold_train-SILVER_ONLY_True_n_246080_1_PRETRAINED_MODEL_geca-cut_embedding3h-k10_s42_w1_f4-SILVER_ONLY_True_n_246080000_1_PRETRAINED_MODEL_NONE.model.model\n"
     ]
    },
    {
     "name": "stderr",
     "output_type": "stream",
     "text": [
      "100%|██████████| 94/94 [00:05<00:00, 16.63it/s]\n"
     ]
    },
    {
     "name": "stdout",
     "output_type": "stream",
     "text": [
      "gold_train-SILVER_ONLY_True_n_246080_1_PRETRAINED_MODEL_gold_train-SILVER_ONLY_True_n_246080000_1_PRETRAINED_MODEL_NONE.model.model\n"
     ]
    },
    {
     "name": "stderr",
     "output_type": "stream",
     "text": [
      "100%|██████████| 94/94 [00:05<00:00, 16.80it/s]\n"
     ]
    },
    {
     "name": "stdout",
     "output_type": "stream",
     "text": [
      "gold_train-SILVER_ONLY_True_n_246080_1_PRETRAINED_MODEL_geca-cut_sadlo-k20_s42_w1_f4-SILVER_ONLY_True_n_246080000_1_PRETRAINED_MODEL_NONE.model.model\n"
     ]
    },
    {
     "name": "stderr",
     "output_type": "stream",
     "text": [
      "100%|██████████| 94/94 [00:05<00:00, 16.88it/s]\n"
     ]
    },
    {
     "name": "stdout",
     "output_type": "stream",
     "text": [
      "gold_train-SILVER_ONLY_True_n_246080_1_PRETRAINED_MODEL_cutmix-s41-SILVER_ONLY_True_n_246080000_2_PRETRAINED_MODEL_NONE.model.model\n"
     ]
    },
    {
     "name": "stderr",
     "output_type": "stream",
     "text": [
      "100%|██████████| 94/94 [00:05<00:00, 17.27it/s]\n"
     ]
    },
    {
     "name": "stdout",
     "output_type": "stream",
     "text": [
      "gold_train-SILVER_ONLY_True_n_246080_1_PRETRAINED_MODEL_cutmix-s43-SILVER_ONLY_True_n_246080000_1_PRETRAINED_MODEL_NONE.model.model\n"
     ]
    },
    {
     "name": "stderr",
     "output_type": "stream",
     "text": [
      "100%|██████████| 94/94 [00:05<00:00, 17.29it/s]\n"
     ]
    },
    {
     "name": "stdout",
     "output_type": "stream",
     "text": [
      "gold_train-SILVER_ONLY_True_n_246080_1_PRETRAINED_MODEL_geca-cut_sadlo-k160_s42_w1_f4-SILVER_ONLY_True_n_246080000_1_PRETRAINED_MODEL_NONE.model.model\n"
     ]
    },
    {
     "name": "stderr",
     "output_type": "stream",
     "text": [
      "100%|██████████| 94/94 [00:05<00:00, 17.25it/s]\n"
     ]
    },
    {
     "name": "stdout",
     "output_type": "stream",
     "text": [
      "gold_train-SILVER_ONLY_True_n_246080_1_PRETRAINED_MODEL_geca-cut_sadlo-k160_s43_w1_f4-SILVER_ONLY_True_n_246080000_1_PRETRAINED_MODEL_NONE.model.model\n"
     ]
    },
    {
     "name": "stderr",
     "output_type": "stream",
     "text": [
      "100%|██████████| 94/94 [00:05<00:00, 16.44it/s]\n"
     ]
    },
    {
     "name": "stdout",
     "output_type": "stream",
     "text": [
      "gold_train-SILVER_ONLY_True_n_246080_1_PRETRAINED_MODEL_geca-cut_sadlo-k20_s43_w1_f4-SILVER_ONLY_True_n_246080000_1_PRETRAINED_MODEL_NONE.model.model\n"
     ]
    },
    {
     "name": "stderr",
     "output_type": "stream",
     "text": [
      "100%|██████████| 94/94 [00:05<00:00, 16.38it/s]\n"
     ]
    },
    {
     "name": "stdout",
     "output_type": "stream",
     "text": [
      "gold_train-SILVER_ONLY_True_n_246080_1_PRETRAINED_MODEL_geca-cut_sadlo-k10_s42_w1_f4-SILVER_ONLY_True_n_246080000_1_PRETRAINED_MODEL_NONE.model.model\n"
     ]
    },
    {
     "name": "stderr",
     "output_type": "stream",
     "text": [
      "100%|██████████| 94/94 [00:05<00:00, 16.24it/s]\n"
     ]
    },
    {
     "name": "stdout",
     "output_type": "stream",
     "text": [
      "gold_train-SILVER_ONLY_True_n_246080_1_PRETRAINED_MODEL_geca-cut_sadlo-k160_s43_w1_f4-SILVER_ONLY_True_n_246080000_2_PRETRAINED_MODEL_NONE.model.model\n"
     ]
    },
    {
     "name": "stderr",
     "output_type": "stream",
     "text": [
      "100%|██████████| 94/94 [00:05<00:00, 16.75it/s]\n"
     ]
    },
    {
     "name": "stdout",
     "output_type": "stream",
     "text": [
      "gold_train-SILVER_ONLY_True_n_246080_1_PRETRAINED_MODEL_geca-cut_sadlo-k10_s41_w1_f4-SILVER_ONLY_True_n_246080000_2_PRETRAINED_MODEL_NONE.model.model\n"
     ]
    },
    {
     "name": "stderr",
     "output_type": "stream",
     "text": [
      "100%|██████████| 94/94 [00:05<00:00, 16.28it/s]\n"
     ]
    },
    {
     "name": "stdout",
     "output_type": "stream",
     "text": [
      "gold_train-SILVER_ONLY_True_n_246080_1_PRETRAINED_MODEL_geca-cut_sadlo-k160_s41_w1_f4-SILVER_ONLY_True_n_246080000_3_PRETRAINED_MODEL_NONE.model.model\n"
     ]
    },
    {
     "name": "stderr",
     "output_type": "stream",
     "text": [
      "100%|██████████| 94/94 [00:05<00:00, 16.70it/s]\n"
     ]
    },
    {
     "name": "stdout",
     "output_type": "stream",
     "text": [
      "gold_train-SILVER_ONLY_True_n_246080_1_PRETRAINED_MODEL_geca-cut_sadlo-k10_s43_w1_f4-SILVER_ONLY_True_n_246080000_1_PRETRAINED_MODEL_NONE.model.model\n"
     ]
    },
    {
     "name": "stderr",
     "output_type": "stream",
     "text": [
      "100%|██████████| 94/94 [00:05<00:00, 18.26it/s]\n"
     ]
    },
    {
     "name": "stdout",
     "output_type": "stream",
     "text": [
      "gold_train-SILVER_ONLY_True_n_246080_1_PRETRAINED_MODEL_geca-cut_sadlo-k40_s41_w1_f4-SILVER_ONLY_True_n_246080000_3_PRETRAINED_MODEL_NONE.model.model\n"
     ]
    },
    {
     "name": "stderr",
     "output_type": "stream",
     "text": [
      "100%|██████████| 94/94 [00:05<00:00, 17.08it/s]\n"
     ]
    },
    {
     "name": "stdout",
     "output_type": "stream",
     "text": [
      "gold_train-SILVER_ONLY_True_n_246080_1_PRETRAINED_MODEL_geca-cut_sadlo-k20_s41_w1_f4-SILVER_ONLY_True_n_246080000_3_PRETRAINED_MODEL_NONE.model.model\n"
     ]
    },
    {
     "name": "stderr",
     "output_type": "stream",
     "text": [
      "100%|██████████| 94/94 [00:05<00:00, 16.83it/s]\n"
     ]
    },
    {
     "name": "stdout",
     "output_type": "stream",
     "text": [
      "gold_train-SILVER_ONLY_True_n_246080_1_PRETRAINED_MODEL_geca-cut_embedding3h-k20_s42_w1_f4-SILVER_ONLY_True_n_246080000_1_PRETRAINED_MODEL_NONE.model.model\n"
     ]
    },
    {
     "name": "stderr",
     "output_type": "stream",
     "text": [
      "100%|██████████| 94/94 [00:05<00:00, 16.53it/s]\n"
     ]
    },
    {
     "name": "stdout",
     "output_type": "stream",
     "text": [
      "gold_train-SILVER_ONLY_True_n_246080_1_PRETRAINED_MODEL_cutmix-s42-SILVER_ONLY_True_n_246080000_3_PRETRAINED_MODEL_NONE.model.model\n"
     ]
    },
    {
     "name": "stderr",
     "output_type": "stream",
     "text": [
      "100%|██████████| 94/94 [00:05<00:00, 16.24it/s]\n"
     ]
    },
    {
     "name": "stdout",
     "output_type": "stream",
     "text": [
      "gold_train-SILVER_ONLY_True_n_246080_1_PRETRAINED_MODEL_cutmix-s43-SILVER_ONLY_True_n_246080000_3_PRETRAINED_MODEL_NONE.model.model\n"
     ]
    },
    {
     "name": "stderr",
     "output_type": "stream",
     "text": [
      "100%|██████████| 94/94 [00:05<00:00, 16.60it/s]\n"
     ]
    },
    {
     "name": "stdout",
     "output_type": "stream",
     "text": [
      "gold_train-SILVER_ONLY_True_n_246080_1_PRETRAINED_MODEL_geca-cut_embedding3h-k160_s42_w1_f4-SILVER_ONLY_True_n_246080000_3_PRETRAINED_MODEL_NONE.model.model\n"
     ]
    },
    {
     "name": "stderr",
     "output_type": "stream",
     "text": [
      "100%|██████████| 94/94 [00:05<00:00, 16.77it/s]\n"
     ]
    },
    {
     "name": "stdout",
     "output_type": "stream",
     "text": [
      "gold_train-SILVER_ONLY_True_n_246080_1_PRETRAINED_MODEL_geca-cut_sadlo-k20_s43_w1_f4-SILVER_ONLY_True_n_246080000_2_PRETRAINED_MODEL_NONE.model.model\n"
     ]
    },
    {
     "name": "stderr",
     "output_type": "stream",
     "text": [
      "100%|██████████| 94/94 [00:05<00:00, 18.07it/s]\n"
     ]
    },
    {
     "name": "stdout",
     "output_type": "stream",
     "text": [
      "gold_train-SILVER_ONLY_True_n_246080_1_PRETRAINED_MODEL_geca-cut_sadlo-k80_s43_w1_f4-SILVER_ONLY_True_n_246080000_2_PRETRAINED_MODEL_NONE.model.model\n"
     ]
    },
    {
     "name": "stderr",
     "output_type": "stream",
     "text": [
      "100%|██████████| 94/94 [00:05<00:00, 16.71it/s]\n"
     ]
    },
    {
     "name": "stdout",
     "output_type": "stream",
     "text": [
      "gold_train-SILVER_ONLY_True_n_246080_1_PRETRAINED_MODEL_geca-cut_sadlo-k80_s43_w1_f4-SILVER_ONLY_True_n_246080000_3_PRETRAINED_MODEL_NONE.model.model\n"
     ]
    },
    {
     "name": "stderr",
     "output_type": "stream",
     "text": [
      "100%|██████████| 94/94 [00:05<00:00, 17.71it/s]\n"
     ]
    },
    {
     "name": "stdout",
     "output_type": "stream",
     "text": [
      "gold_train-SILVER_ONLY_True_n_246080_1_PRETRAINED_MODEL_geca-cut_sadlo-k40_s41_w1_f4-SILVER_ONLY_True_n_246080000_1_PRETRAINED_MODEL_NONE.model.model\n"
     ]
    },
    {
     "name": "stderr",
     "output_type": "stream",
     "text": [
      "100%|██████████| 94/94 [00:05<00:00, 16.66it/s]\n"
     ]
    },
    {
     "name": "stdout",
     "output_type": "stream",
     "text": [
      "gold_train-SILVER_ONLY_True_n_246080_1_PRETRAINED_MODEL_cutmix-s41-SILVER_ONLY_True_n_246080000_3_PRETRAINED_MODEL_NONE.model.model\n"
     ]
    },
    {
     "name": "stderr",
     "output_type": "stream",
     "text": [
      "100%|██████████| 94/94 [00:05<00:00, 17.13it/s]\n"
     ]
    },
    {
     "name": "stdout",
     "output_type": "stream",
     "text": [
      "gold_train-SILVER_ONLY_True_n_246080_1_PRETRAINED_MODEL_cutmix-s43-SILVER_ONLY_True_n_246080000_2_PRETRAINED_MODEL_NONE.model.model\n"
     ]
    },
    {
     "name": "stderr",
     "output_type": "stream",
     "text": [
      "100%|██████████| 94/94 [00:05<00:00, 16.57it/s]\n"
     ]
    },
    {
     "name": "stdout",
     "output_type": "stream",
     "text": [
      "gold_train-SILVER_ONLY_True_n_246080_1_PRETRAINED_MODEL_cutmix-s42-SILVER_ONLY_True_n_246080000_1_PRETRAINED_MODEL_NONE.model.model\n"
     ]
    },
    {
     "name": "stderr",
     "output_type": "stream",
     "text": [
      "100%|██████████| 94/94 [00:05<00:00, 16.41it/s]\n"
     ]
    },
    {
     "name": "stdout",
     "output_type": "stream",
     "text": [
      "gold_train-SILVER_ONLY_True_n_246080_1_PRETRAINED_MODEL_geca-cut_embedding3h-k80_s42_w1_f4-SILVER_ONLY_True_n_246080000_1_PRETRAINED_MODEL_NONE.model.model\n"
     ]
    },
    {
     "name": "stderr",
     "output_type": "stream",
     "text": [
      "100%|██████████| 94/94 [00:05<00:00, 16.80it/s]\n"
     ]
    },
    {
     "name": "stdout",
     "output_type": "stream",
     "text": [
      "gold_train-SILVER_ONLY_True_n_246080_1_PRETRAINED_MODEL_geca-cut_sadlo-k80_s42_w1_f4-SILVER_ONLY_True_n_246080000_2_PRETRAINED_MODEL_NONE.model.model\n"
     ]
    },
    {
     "name": "stderr",
     "output_type": "stream",
     "text": [
      "100%|██████████| 94/94 [00:05<00:00, 17.01it/s]\n"
     ]
    },
    {
     "name": "stdout",
     "output_type": "stream",
     "text": [
      "gold_train-SILVER_ONLY_True_n_246080_1_PRETRAINED_MODEL_geca-cut_sadlo-k40_s43_w1_f4-SILVER_ONLY_True_n_246080000_3_PRETRAINED_MODEL_NONE.model.model\n"
     ]
    },
    {
     "name": "stderr",
     "output_type": "stream",
     "text": [
      "100%|██████████| 94/94 [00:05<00:00, 16.85it/s]\n"
     ]
    },
    {
     "name": "stdout",
     "output_type": "stream",
     "text": [
      "gold_train-SILVER_ONLY_True_n_246080_1_PRETRAINED_MODEL_geca-cut_sadlo-k10_s41_w1_f4-SILVER_ONLY_True_n_246080000_1_PRETRAINED_MODEL_NONE.model.model\n"
     ]
    },
    {
     "name": "stderr",
     "output_type": "stream",
     "text": [
      "100%|██████████| 94/94 [00:05<00:00, 17.05it/s]\n"
     ]
    }
   ],
   "source": [
    "import os\n",
    "import models.InformerAutoregressiveFull as autoformer\n",
    "importlib.reload(autoformer)\n",
    "batch_size, lr, patience = 32, 0.0005, 6  # batch_size increased, patience 10 --> 6\n",
    "d, N, he, dropout = 50, 2, 4, 0.2\n",
    "model = autoformer.Model(args).cuda()\n",
    "# Load pretrained weights here.\n",
    "optimizer = torch.optim.Adam(model.parameters(), lr=lr)\n",
    "scheduler = ReduceLROnPlateau(optimizer, 'max', patience=3)\n",
    "for model_path in os.listdir(\"eicu_full_fixed_finetune_lower/\"):\n",
    "    #if not (model_path.endswith(\"1.model\") or model_path.endswith(\"2.model\")): continue\n",
    "    #if not (\"k80\" in model_path or \"k160\" in model_path) or not(model_path.endswith(\"1.model\")): continue\n",
    "    if not (model_path.endswith(\".model\")): continue\n",
    "    print(model_path)\n",
    "    model.load_state_dict(torch.load(\"eicu_full_fixed_finetune_lower/\"+model_path))\n",
    "    model.eval()\n",
    "    y_true, y_pred = [], []\n",
    "    #print(test_input)\n",
    "    pbar = tqdm(range(0, len(test_input), batch_size))\n",
    "    loss_list = []\n",
    "    test_loss = 0\n",
    "    test_loss_part1 = 0\n",
    "    test_loss_part2 = 0\n",
    "    sofa_losses = []\n",
    "    test_loss_sofa_variables = 0\n",
    "    accuracy_list = []\n",
    "    TP, TN, FP, FN = 0, 0, 0, 0\n",
    "    test_loss_sum_square_total = 0\n",
    "    test_loss_part1_sum_square_total = 0\n",
    "    test_loss_part2_sum_square_total = 0\n",
    "    test_loss_sofa_sum_square_total = 0\n",
    "    for start in pbar:\n",
    "        #print(start)\n",
    "        matrix = torch.tensor(test_input[start:start+batch_size], dtype=torch.float32).cuda()\n",
    "        input_matrix = matrix[:, :24]\n",
    "\n",
    "        #torch.Size([32, 24, 129])\n",
    "        input_mark = torch.arange(0, input_matrix.size(1)).unsqueeze(0).repeat(input_matrix.size(0), 1).cuda()\n",
    "        #torch.Size([32, 24])\n",
    "        input_mask = input_matrix[:, :24, V:]\n",
    "        output_matrix = matrix[:, 24:, :V]\n",
    "        #torch.Size([32, 24, 129])\n",
    "        output_mark = torch.arange(0, output_matrix.size(1)).unsqueeze(0).repeat(input_matrix.size(0), 1).cuda()\n",
    "        #torch.Size([32, 24])\n",
    "        output_mask = matrix[:, 24:, V:]\n",
    "        #torch.Size([32, 24, 129])\n",
    "        output_mark = torch.arange(0, output_matrix.size(1)).unsqueeze(0).repeat(input_matrix.size(0), 1).cuda()\n",
    "        dec_inp = torch.zeros_like(output_matrix[:, -args.pred_len:, :]).float()\n",
    "        with torch.no_grad():\n",
    "            output = model(input_matrix, input_mark, dec_inp, output_mark, trainn=False)\n",
    "            loss = output_mask[:, -args.pred_len:, :]*(\n",
    "            output-output_matrix[:, -args.pred_len:, :])**2\n",
    "        loss_list.extend(loss.sum(axis=-1).mean(axis=-1).detach().cpu().tolist())\n",
    "        loss_old = loss\n",
    "        test_loss_sum_square_total += torch.sum(loss_old.sum(axis=-1).mean(axis=-1)**2)\n",
    "        loss = loss.sum(axis=-1).mean(axis=-1).sum()\n",
    "        loss_part1 = loss_old[:, :8].sum(axis=-1).mean()\n",
    "        loss_part2 = loss_old[:, 8:].sum(axis=-1).mean()\n",
    "        test_loss+=loss\n",
    "        test_loss_part1+=loss_part1\n",
    "        test_loss_part2+=loss_part2\n",
    "\n",
    "        test_loss_part1_sum_square_total += torch.sum(loss_old[:, :8].sum(axis=-1).mean(axis=-1)**2)\n",
    "        test_loss_part2_sum_square_total += torch.sum(loss_old[:, 8:].sum(axis=-1).mean(axis=-1)**2)\n",
    "    test_loss_p = test_loss/len(test_input)\n",
    "    se_loss_p = torch.sqrt(test_loss_sum_square_total / len(test_input) - test_loss_p**2)/len(test_input)\n",
    "    test_loss_part1_p = test_loss_part1*batch_size/len(test_input)\n",
    "    test_loss_part2_p = test_loss_part2*batch_size/len(test_input)\n",
    "\n",
    "\n",
    "    model_name = model_path+'&'\n",
    "    MSE_string = \"{:.3f}\".format(test_loss_p.item()) + \"$_{[\" + \"{:.3f}\".format(test_loss_p.item()-1.96*se_loss_p.item()) +','+ \"{:.3f}\".format(test_loss_p.item()+1.96*se_loss_p.item()) + ']}$&'\n",
    "    print(model_name,MSE_string, sep='',file=open('eicu_full_fixed_finetune_lower_other_test.txt','a'))"
   ]
  },
  {
   "cell_type": "code",
   "execution_count": null,
   "id": "8d0e078d",
   "metadata": {},
   "outputs": [],
   "source": []
  }
 ],
 "metadata": {
  "kernelspec": {
   "display_name": "Python 3 (ipykernel)",
   "language": "python",
   "name": "python3"
  },
  "language_info": {
   "codemirror_mode": {
    "name": "ipython",
    "version": 3
   },
   "file_extension": ".py",
   "mimetype": "text/x-python",
   "name": "python",
   "nbconvert_exporter": "python",
   "pygments_lexer": "ipython3",
   "version": "3.7.11"
  }
 },
 "nbformat": 4,
 "nbformat_minor": 5
}
